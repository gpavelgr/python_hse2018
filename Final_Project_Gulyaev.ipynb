{
 "cells": [
  {
   "cell_type": "markdown",
   "metadata": {},
   "source": [
    "# Финальный проект!\n",
    "### Попытаемся применить накопленные знания по питону и анализу данных, чтобы сделать что-то полезное"
   ]
  },
  {
   "cell_type": "markdown",
   "metadata": {},
   "source": [
    "### Данные взяты с работы моего брата!\n",
    "У моего брата есть зоомагазин и я спросил может ли он дать мне кусочек данных по продажам товаров. \n",
    "Цель данного проекта (как он меня попросил) – \"узнать что-нибудь полезненькое раз ты изучаешь там свой анализ данных\".\n",
    "\n",
    "P.S. Интересно отметить, что в этом зоомагазине работают свои \"программисты и маркетологи\". Если по итогам моего анализа будут какие-то интересные результаты – можно будет сравнить с тем, что делают они.\n",
    "\n",
    "### Описание данных и постановка иссл. вопроса\n",
    "К сожалению мне дали только \"вырезку\" данных по продажам за октябрь и не все переменные (потому что \"конфиденциальная информация\").\n",
    "Мы имеем следующие переменные (очень странно они называются)\n",
    "\n",
    "#### 1. Client_id\n",
    "* Номер клиента (заказа). Он анонимизирован для меня.\n",
    "\n",
    "#### 2. Animal_type\n",
    "* Товар для какого животного был куплен: собака, кошка, другой (или общий или другое животное)\n",
    "\n",
    "#### 3. Session_duration\n",
    "* Длительность сессии на сайте (как я понял – в секундах, но с каким то ограничением (считается не с первой секунды, останавливается при закрытии вкладки; но будет считать, что количество секунд, проведенных на сайте)\n",
    "\n",
    "#### 4. Source_id\n",
    "* Как клиент попал на сайт (SEO - через поиск, REDIRECT - с другого сайта/рекламы на другом сайте, SOCIAL – с социальных сетей, DIRECT - напрямую сайт был введен в адресную строку, без переходов)\n",
    "\n",
    "#### 5. Click_amount\n",
    "* Сколько кликов сделал человек на сайте (как мне сказали, это тоже не \"точная цифра кликов\", а какая-то нормированная/фиксируемая определенным образом; но, к сожалению не сказали как – будем считать, что количество кликов)\n",
    "\n",
    "#### 6. Order_price\n",
    "* Цена заказа (если заказа не было – цена = 0)\n",
    "\n",
    "#### 7. Order_status\n",
    "* Статус заказа (1 – был заказ; 0 - не было заказа)\n",
    "\n",
    "#### 8. Client_invite\n",
    "* Пригласил ли этот пользователь кого-то (новый клиент пришел по реферальной ссылке).\n",
    "\n",
    "### Ну что-ж, не густно. Но бывало и хуже :)\n",
    "\n",
    "## Что мы ищем?\n",
    "Я подумал, что интересно посмотреть на 2 вещи, раз уж они бинарные – кто в итоге покупает товар (**order_st**) и кто приглашает новых клиентов (**client_inv**). \n",
    "Если мы получим значимые и интересные результаты – можно будет, к примеру, усилить рекламу на какой-то конкретный ресурс (например на соц. сети или SEO). \n",
    "Также можно посмотреть на количество кликов и общую стоимость заказа/статус заказа (вдруг мы заметим, что люди долго ищут какой-то товар?) Хотя у нас нет товаров...\n",
    "В общем, давайте уже заглянем внутрь и посмотрим от чего зависит **order_st**\n",
    "\n",
    "\n",
    "### Мне очень нравится, что я смог найти данные, изучение которых пойдёт кому-то на пользу. \n",
    "Немного надоело качать данные с кеглов и сайтов для машин лернинг исследований и просто гонять модельки!\n",
    "Хорошо, что в вашем задании был пункт, про `сделать что-то полезное`, а не просто погонять модельки."
   ]
  },
  {
   "cell_type": "markdown",
   "metadata": {},
   "source": [
    "# 0. Работа с данными. Подготовка данных."
   ]
  },
  {
   "cell_type": "markdown",
   "metadata": {},
   "source": [
    "### Импортируем данные и библиотеки"
   ]
  },
  {
   "cell_type": "code",
   "execution_count": 292,
   "metadata": {
    "scrolled": true
   },
   "outputs": [
    {
     "data": {
      "text/html": [
       "<div>\n",
       "<style scoped>\n",
       "    .dataframe tbody tr th:only-of-type {\n",
       "        vertical-align: middle;\n",
       "    }\n",
       "\n",
       "    .dataframe tbody tr th {\n",
       "        vertical-align: top;\n",
       "    }\n",
       "\n",
       "    .dataframe thead th {\n",
       "        text-align: right;\n",
       "    }\n",
       "</style>\n",
       "<table border=\"1\" class=\"dataframe\">\n",
       "  <thead>\n",
       "    <tr style=\"text-align: right;\">\n",
       "      <th></th>\n",
       "      <th>CLIENT_ID</th>\n",
       "      <th>ANIMAL_TP</th>\n",
       "      <th>SESSION_DN</th>\n",
       "      <th>SOURCE_ID</th>\n",
       "      <th>CLICK_ANT</th>\n",
       "      <th>ORDER_PRC</th>\n",
       "      <th>ORDER_ST</th>\n",
       "      <th>CLIENT_INV</th>\n",
       "    </tr>\n",
       "  </thead>\n",
       "  <tbody>\n",
       "    <tr>\n",
       "      <th>0</th>\n",
       "      <td>18_10_0026741</td>\n",
       "      <td>DOG</td>\n",
       "      <td>79.83</td>\n",
       "      <td>SEO</td>\n",
       "      <td>35</td>\n",
       "      <td>1516</td>\n",
       "      <td>1</td>\n",
       "      <td>0</td>\n",
       "    </tr>\n",
       "    <tr>\n",
       "      <th>1</th>\n",
       "      <td>18_10_0026742</td>\n",
       "      <td>CAT</td>\n",
       "      <td>103.97</td>\n",
       "      <td>REDIRECT</td>\n",
       "      <td>4</td>\n",
       "      <td>745</td>\n",
       "      <td>1</td>\n",
       "      <td>0</td>\n",
       "    </tr>\n",
       "    <tr>\n",
       "      <th>2</th>\n",
       "      <td>18_10_0026743</td>\n",
       "      <td>CAT</td>\n",
       "      <td>74.87</td>\n",
       "      <td>SEO</td>\n",
       "      <td>8</td>\n",
       "      <td>0</td>\n",
       "      <td>0</td>\n",
       "      <td>0</td>\n",
       "    </tr>\n",
       "    <tr>\n",
       "      <th>3</th>\n",
       "      <td>18_10_0026744</td>\n",
       "      <td>CAT</td>\n",
       "      <td>154.41</td>\n",
       "      <td>SEO</td>\n",
       "      <td>6</td>\n",
       "      <td>182</td>\n",
       "      <td>1</td>\n",
       "      <td>0</td>\n",
       "    </tr>\n",
       "    <tr>\n",
       "      <th>4</th>\n",
       "      <td>18_10_0026745</td>\n",
       "      <td>DOG</td>\n",
       "      <td>88.49</td>\n",
       "      <td>REDIRECT</td>\n",
       "      <td>37</td>\n",
       "      <td>725</td>\n",
       "      <td>1</td>\n",
       "      <td>0</td>\n",
       "    </tr>\n",
       "  </tbody>\n",
       "</table>\n",
       "</div>"
      ],
      "text/plain": [
       "       CLIENT_ID ANIMAL_TP  SESSION_DN SOURCE_ID  CLICK_ANT  ORDER_PRC  \\\n",
       "0  18_10_0026741       DOG       79.83       SEO         35       1516   \n",
       "1  18_10_0026742       CAT      103.97  REDIRECT          4        745   \n",
       "2  18_10_0026743       CAT       74.87       SEO          8          0   \n",
       "3  18_10_0026744       CAT      154.41       SEO          6        182   \n",
       "4  18_10_0026745       DOG       88.49  REDIRECT         37        725   \n",
       "\n",
       "   ORDER_ST  CLIENT_INV  \n",
       "0         1           0  \n",
       "1         1           0  \n",
       "2         0           0  \n",
       "3         1           0  \n",
       "4         1           0  "
      ]
     },
     "execution_count": 292,
     "metadata": {},
     "output_type": "execute_result"
    }
   ],
   "source": [
    "import numpy as np # работа с векторами\n",
    "import matplotlib.pyplot as plt # рисовать графики\n",
    "import pandas as pd # для работы с матрицами\n",
    "\n",
    "\n",
    "#Загружаем данные\n",
    "zoo = pd.read_csv(\"/Users/paulwalker/Jupyter Python/DATA_PASHA.csv\")\n",
    "zoo2 = zoo\n",
    "zoo.head()"
   ]
  },
  {
   "cell_type": "markdown",
   "metadata": {},
   "source": [
    "### Предлагаю убрать client_id, потому что никакой информации это для нас не несет"
   ]
  },
  {
   "cell_type": "code",
   "execution_count": 293,
   "metadata": {
    "scrolled": false
   },
   "outputs": [
    {
     "data": {
      "text/html": [
       "<div>\n",
       "<style scoped>\n",
       "    .dataframe tbody tr th:only-of-type {\n",
       "        vertical-align: middle;\n",
       "    }\n",
       "\n",
       "    .dataframe tbody tr th {\n",
       "        vertical-align: top;\n",
       "    }\n",
       "\n",
       "    .dataframe thead th {\n",
       "        text-align: right;\n",
       "    }\n",
       "</style>\n",
       "<table border=\"1\" class=\"dataframe\">\n",
       "  <thead>\n",
       "    <tr style=\"text-align: right;\">\n",
       "      <th></th>\n",
       "      <th>ANIMAL_TP</th>\n",
       "      <th>SESSION_DN</th>\n",
       "      <th>SOURCE_ID</th>\n",
       "      <th>CLICK_ANT</th>\n",
       "      <th>ORDER_PRC</th>\n",
       "      <th>ORDER_ST</th>\n",
       "      <th>CLIENT_INV</th>\n",
       "    </tr>\n",
       "  </thead>\n",
       "  <tbody>\n",
       "    <tr>\n",
       "      <th>0</th>\n",
       "      <td>DOG</td>\n",
       "      <td>79.83</td>\n",
       "      <td>SEO</td>\n",
       "      <td>35</td>\n",
       "      <td>1516</td>\n",
       "      <td>1</td>\n",
       "      <td>0</td>\n",
       "    </tr>\n",
       "    <tr>\n",
       "      <th>1</th>\n",
       "      <td>CAT</td>\n",
       "      <td>103.97</td>\n",
       "      <td>REDIRECT</td>\n",
       "      <td>4</td>\n",
       "      <td>745</td>\n",
       "      <td>1</td>\n",
       "      <td>0</td>\n",
       "    </tr>\n",
       "    <tr>\n",
       "      <th>2</th>\n",
       "      <td>CAT</td>\n",
       "      <td>74.87</td>\n",
       "      <td>SEO</td>\n",
       "      <td>8</td>\n",
       "      <td>0</td>\n",
       "      <td>0</td>\n",
       "      <td>0</td>\n",
       "    </tr>\n",
       "    <tr>\n",
       "      <th>3</th>\n",
       "      <td>CAT</td>\n",
       "      <td>154.41</td>\n",
       "      <td>SEO</td>\n",
       "      <td>6</td>\n",
       "      <td>182</td>\n",
       "      <td>1</td>\n",
       "      <td>0</td>\n",
       "    </tr>\n",
       "    <tr>\n",
       "      <th>4</th>\n",
       "      <td>DOG</td>\n",
       "      <td>88.49</td>\n",
       "      <td>REDIRECT</td>\n",
       "      <td>37</td>\n",
       "      <td>725</td>\n",
       "      <td>1</td>\n",
       "      <td>0</td>\n",
       "    </tr>\n",
       "  </tbody>\n",
       "</table>\n",
       "</div>"
      ],
      "text/plain": [
       "  ANIMAL_TP  SESSION_DN SOURCE_ID  CLICK_ANT  ORDER_PRC  ORDER_ST  CLIENT_INV\n",
       "0       DOG       79.83       SEO         35       1516         1           0\n",
       "1       CAT      103.97  REDIRECT          4        745         1           0\n",
       "2       CAT       74.87       SEO          8          0         0           0\n",
       "3       CAT      154.41       SEO          6        182         1           0\n",
       "4       DOG       88.49  REDIRECT         37        725         1           0"
      ]
     },
     "execution_count": 293,
     "metadata": {},
     "output_type": "execute_result"
    }
   ],
   "source": [
    "zoo = zoo.drop(zoo.columns[0], axis = 1)\n",
    "zoo.head()"
   ]
  },
  {
   "cell_type": "markdown",
   "metadata": {},
   "source": [
    "### Смотрим на тип наших переменных"
   ]
  },
  {
   "cell_type": "code",
   "execution_count": 294,
   "metadata": {},
   "outputs": [
    {
     "name": "stdout",
     "output_type": "stream",
     "text": [
      "<class 'pandas.core.frame.DataFrame'>\n",
      "RangeIndex: 1711 entries, 0 to 1710\n",
      "Data columns (total 7 columns):\n",
      "ANIMAL_TP     1711 non-null object\n",
      "SESSION_DN    1711 non-null float64\n",
      "SOURCE_ID     1711 non-null object\n",
      "CLICK_ANT     1711 non-null int64\n",
      "ORDER_PRC     1711 non-null int64\n",
      "ORDER_ST      1711 non-null int64\n",
      "CLIENT_INV    1711 non-null int64\n",
      "dtypes: float64(1), int64(4), object(2)\n",
      "memory usage: 93.6+ KB\n"
     ]
    }
   ],
   "source": [
    "zoo.info() #У нас есть две категориальные переменные! Тип животных и источник клиента"
   ]
  },
  {
   "cell_type": "code",
   "execution_count": 295,
   "metadata": {
    "scrolled": true
   },
   "outputs": [
    {
     "data": {
      "text/html": [
       "<div>\n",
       "<style scoped>\n",
       "    .dataframe tbody tr th:only-of-type {\n",
       "        vertical-align: middle;\n",
       "    }\n",
       "\n",
       "    .dataframe tbody tr th {\n",
       "        vertical-align: top;\n",
       "    }\n",
       "\n",
       "    .dataframe thead th {\n",
       "        text-align: right;\n",
       "    }\n",
       "</style>\n",
       "<table border=\"1\" class=\"dataframe\">\n",
       "  <thead>\n",
       "    <tr style=\"text-align: right;\">\n",
       "      <th></th>\n",
       "      <th>SESSION_DN</th>\n",
       "      <th>CLICK_ANT</th>\n",
       "      <th>ORDER_PRC</th>\n",
       "      <th>ORDER_ST</th>\n",
       "      <th>CLIENT_INV</th>\n",
       "    </tr>\n",
       "  </thead>\n",
       "  <tbody>\n",
       "    <tr>\n",
       "      <th>count</th>\n",
       "      <td>1711.000000</td>\n",
       "      <td>1711.000000</td>\n",
       "      <td>1711.000000</td>\n",
       "      <td>1711.000000</td>\n",
       "      <td>1711.000000</td>\n",
       "    </tr>\n",
       "    <tr>\n",
       "      <th>mean</th>\n",
       "      <td>103.539544</td>\n",
       "      <td>11.331970</td>\n",
       "      <td>505.762127</td>\n",
       "      <td>0.638808</td>\n",
       "      <td>0.132671</td>\n",
       "    </tr>\n",
       "    <tr>\n",
       "      <th>std</th>\n",
       "      <td>53.294424</td>\n",
       "      <td>8.479126</td>\n",
       "      <td>711.926234</td>\n",
       "      <td>0.480487</td>\n",
       "      <td>0.339318</td>\n",
       "    </tr>\n",
       "    <tr>\n",
       "      <th>min</th>\n",
       "      <td>0.100000</td>\n",
       "      <td>0.000000</td>\n",
       "      <td>0.000000</td>\n",
       "      <td>0.000000</td>\n",
       "      <td>0.000000</td>\n",
       "    </tr>\n",
       "    <tr>\n",
       "      <th>25%</th>\n",
       "      <td>60.190000</td>\n",
       "      <td>5.000000</td>\n",
       "      <td>0.000000</td>\n",
       "      <td>0.000000</td>\n",
       "      <td>0.000000</td>\n",
       "    </tr>\n",
       "    <tr>\n",
       "      <th>50%</th>\n",
       "      <td>104.030000</td>\n",
       "      <td>8.000000</td>\n",
       "      <td>314.000000</td>\n",
       "      <td>1.000000</td>\n",
       "      <td>0.000000</td>\n",
       "    </tr>\n",
       "    <tr>\n",
       "      <th>75%</th>\n",
       "      <td>146.035000</td>\n",
       "      <td>16.000000</td>\n",
       "      <td>725.500000</td>\n",
       "      <td>1.000000</td>\n",
       "      <td>0.000000</td>\n",
       "    </tr>\n",
       "    <tr>\n",
       "      <th>max</th>\n",
       "      <td>649.020000</td>\n",
       "      <td>39.000000</td>\n",
       "      <td>4800.000000</td>\n",
       "      <td>1.000000</td>\n",
       "      <td>1.000000</td>\n",
       "    </tr>\n",
       "  </tbody>\n",
       "</table>\n",
       "</div>"
      ],
      "text/plain": [
       "        SESSION_DN    CLICK_ANT    ORDER_PRC     ORDER_ST   CLIENT_INV\n",
       "count  1711.000000  1711.000000  1711.000000  1711.000000  1711.000000\n",
       "mean    103.539544    11.331970   505.762127     0.638808     0.132671\n",
       "std      53.294424     8.479126   711.926234     0.480487     0.339318\n",
       "min       0.100000     0.000000     0.000000     0.000000     0.000000\n",
       "25%      60.190000     5.000000     0.000000     0.000000     0.000000\n",
       "50%     104.030000     8.000000   314.000000     1.000000     0.000000\n",
       "75%     146.035000    16.000000   725.500000     1.000000     0.000000\n",
       "max     649.020000    39.000000  4800.000000     1.000000     1.000000"
      ]
     },
     "execution_count": 295,
     "metadata": {},
     "output_type": "execute_result"
    }
   ],
   "source": [
    "zoo.describe() #Не люблю питон за то, что он не может нормально работать с категориальными переменными"
   ]
  },
  {
   "cell_type": "markdown",
   "metadata": {},
   "source": [
    "### Давайте заменим категории на цифры (чтобы питону было легче считать)"
   ]
  },
  {
   "cell_type": "code",
   "execution_count": 296,
   "metadata": {
    "scrolled": true
   },
   "outputs": [
    {
     "data": {
      "text/html": [
       "<div>\n",
       "<style scoped>\n",
       "    .dataframe tbody tr th:only-of-type {\n",
       "        vertical-align: middle;\n",
       "    }\n",
       "\n",
       "    .dataframe tbody tr th {\n",
       "        vertical-align: top;\n",
       "    }\n",
       "\n",
       "    .dataframe thead th {\n",
       "        text-align: right;\n",
       "    }\n",
       "</style>\n",
       "<table border=\"1\" class=\"dataframe\">\n",
       "  <thead>\n",
       "    <tr style=\"text-align: right;\">\n",
       "      <th></th>\n",
       "      <th>ANIMAL_TP</th>\n",
       "      <th>SESSION_DN</th>\n",
       "      <th>SOURCE_ID</th>\n",
       "      <th>CLICK_ANT</th>\n",
       "      <th>ORDER_PRC</th>\n",
       "      <th>ORDER_ST</th>\n",
       "      <th>CLIENT_INV</th>\n",
       "    </tr>\n",
       "  </thead>\n",
       "  <tbody>\n",
       "    <tr>\n",
       "      <th>0</th>\n",
       "      <td>1</td>\n",
       "      <td>79.83</td>\n",
       "      <td>1</td>\n",
       "      <td>35</td>\n",
       "      <td>1516</td>\n",
       "      <td>1</td>\n",
       "      <td>0</td>\n",
       "    </tr>\n",
       "    <tr>\n",
       "      <th>1</th>\n",
       "      <td>2</td>\n",
       "      <td>103.97</td>\n",
       "      <td>2</td>\n",
       "      <td>4</td>\n",
       "      <td>745</td>\n",
       "      <td>1</td>\n",
       "      <td>0</td>\n",
       "    </tr>\n",
       "    <tr>\n",
       "      <th>2</th>\n",
       "      <td>2</td>\n",
       "      <td>74.87</td>\n",
       "      <td>1</td>\n",
       "      <td>8</td>\n",
       "      <td>0</td>\n",
       "      <td>0</td>\n",
       "      <td>0</td>\n",
       "    </tr>\n",
       "    <tr>\n",
       "      <th>3</th>\n",
       "      <td>2</td>\n",
       "      <td>154.41</td>\n",
       "      <td>1</td>\n",
       "      <td>6</td>\n",
       "      <td>182</td>\n",
       "      <td>1</td>\n",
       "      <td>0</td>\n",
       "    </tr>\n",
       "    <tr>\n",
       "      <th>4</th>\n",
       "      <td>1</td>\n",
       "      <td>88.49</td>\n",
       "      <td>2</td>\n",
       "      <td>37</td>\n",
       "      <td>725</td>\n",
       "      <td>1</td>\n",
       "      <td>0</td>\n",
       "    </tr>\n",
       "  </tbody>\n",
       "</table>\n",
       "</div>"
      ],
      "text/plain": [
       "   ANIMAL_TP  SESSION_DN  SOURCE_ID  CLICK_ANT  ORDER_PRC  ORDER_ST  \\\n",
       "0          1       79.83          1         35       1516         1   \n",
       "1          2      103.97          2          4        745         1   \n",
       "2          2       74.87          1          8          0         0   \n",
       "3          2      154.41          1          6        182         1   \n",
       "4          1       88.49          2         37        725         1   \n",
       "\n",
       "   CLIENT_INV  \n",
       "0           0  \n",
       "1           0  \n",
       "2           0  \n",
       "3           0  \n",
       "4           0  "
      ]
     },
     "execution_count": 296,
     "metadata": {},
     "output_type": "execute_result"
    }
   ],
   "source": [
    "names = {\"ANIMAL_TP\":     {\"DOG\": 1, \"CAT\": 2, \"OTHER\": 3},\n",
    "         \"SOURCE_ID\": {\"SEO\": 1, \"REDIRECT\": 2, \"SOCIAL\": 3, \"DIRECT\": 4}}\n",
    "zoo.replace(names, inplace=True)\n",
    "zoo.head()\n",
    "# Мы в шоколаде! Главное теперь не забыть что на что мы заменили :)"
   ]
  },
  {
   "cell_type": "markdown",
   "metadata": {},
   "source": [
    "### Проверяем тип наших переменных"
   ]
  },
  {
   "cell_type": "code",
   "execution_count": 297,
   "metadata": {
    "scrolled": true
   },
   "outputs": [
    {
     "name": "stdout",
     "output_type": "stream",
     "text": [
      "<class 'pandas.core.frame.DataFrame'>\n",
      "RangeIndex: 1711 entries, 0 to 1710\n",
      "Data columns (total 7 columns):\n",
      "ANIMAL_TP     1711 non-null int64\n",
      "SESSION_DN    1711 non-null float64\n",
      "SOURCE_ID     1711 non-null int64\n",
      "CLICK_ANT     1711 non-null int64\n",
      "ORDER_PRC     1711 non-null int64\n",
      "ORDER_ST      1711 non-null int64\n",
      "CLIENT_INV    1711 non-null int64\n",
      "dtypes: float64(1), int64(6)\n",
      "memory usage: 93.6 KB\n"
     ]
    }
   ],
   "source": [
    "zoo.info() #супер!"
   ]
  },
  {
   "cell_type": "markdown",
   "metadata": {},
   "source": [
    "### Смотрим дискриптивную статистику еще раз"
   ]
  },
  {
   "cell_type": "code",
   "execution_count": 298,
   "metadata": {
    "scrolled": true
   },
   "outputs": [
    {
     "data": {
      "text/html": [
       "<div>\n",
       "<style scoped>\n",
       "    .dataframe tbody tr th:only-of-type {\n",
       "        vertical-align: middle;\n",
       "    }\n",
       "\n",
       "    .dataframe tbody tr th {\n",
       "        vertical-align: top;\n",
       "    }\n",
       "\n",
       "    .dataframe thead th {\n",
       "        text-align: right;\n",
       "    }\n",
       "</style>\n",
       "<table border=\"1\" class=\"dataframe\">\n",
       "  <thead>\n",
       "    <tr style=\"text-align: right;\">\n",
       "      <th></th>\n",
       "      <th>ANIMAL_TP</th>\n",
       "      <th>SESSION_DN</th>\n",
       "      <th>SOURCE_ID</th>\n",
       "      <th>CLICK_ANT</th>\n",
       "      <th>ORDER_PRC</th>\n",
       "      <th>ORDER_ST</th>\n",
       "      <th>CLIENT_INV</th>\n",
       "    </tr>\n",
       "  </thead>\n",
       "  <tbody>\n",
       "    <tr>\n",
       "      <th>count</th>\n",
       "      <td>1711.000000</td>\n",
       "      <td>1711.000000</td>\n",
       "      <td>1711.000000</td>\n",
       "      <td>1711.000000</td>\n",
       "      <td>1711.000000</td>\n",
       "      <td>1711.000000</td>\n",
       "      <td>1711.000000</td>\n",
       "    </tr>\n",
       "    <tr>\n",
       "      <th>mean</th>\n",
       "      <td>1.715956</td>\n",
       "      <td>103.539544</td>\n",
       "      <td>2.021625</td>\n",
       "      <td>11.331970</td>\n",
       "      <td>505.762127</td>\n",
       "      <td>0.638808</td>\n",
       "      <td>0.132671</td>\n",
       "    </tr>\n",
       "    <tr>\n",
       "      <th>std</th>\n",
       "      <td>0.815047</td>\n",
       "      <td>53.294424</td>\n",
       "      <td>1.024895</td>\n",
       "      <td>8.479126</td>\n",
       "      <td>711.926234</td>\n",
       "      <td>0.480487</td>\n",
       "      <td>0.339318</td>\n",
       "    </tr>\n",
       "    <tr>\n",
       "      <th>min</th>\n",
       "      <td>1.000000</td>\n",
       "      <td>0.100000</td>\n",
       "      <td>1.000000</td>\n",
       "      <td>0.000000</td>\n",
       "      <td>0.000000</td>\n",
       "      <td>0.000000</td>\n",
       "      <td>0.000000</td>\n",
       "    </tr>\n",
       "    <tr>\n",
       "      <th>25%</th>\n",
       "      <td>1.000000</td>\n",
       "      <td>60.190000</td>\n",
       "      <td>1.000000</td>\n",
       "      <td>5.000000</td>\n",
       "      <td>0.000000</td>\n",
       "      <td>0.000000</td>\n",
       "      <td>0.000000</td>\n",
       "    </tr>\n",
       "    <tr>\n",
       "      <th>50%</th>\n",
       "      <td>1.000000</td>\n",
       "      <td>104.030000</td>\n",
       "      <td>2.000000</td>\n",
       "      <td>8.000000</td>\n",
       "      <td>314.000000</td>\n",
       "      <td>1.000000</td>\n",
       "      <td>0.000000</td>\n",
       "    </tr>\n",
       "    <tr>\n",
       "      <th>75%</th>\n",
       "      <td>2.000000</td>\n",
       "      <td>146.035000</td>\n",
       "      <td>3.000000</td>\n",
       "      <td>16.000000</td>\n",
       "      <td>725.500000</td>\n",
       "      <td>1.000000</td>\n",
       "      <td>0.000000</td>\n",
       "    </tr>\n",
       "    <tr>\n",
       "      <th>max</th>\n",
       "      <td>3.000000</td>\n",
       "      <td>649.020000</td>\n",
       "      <td>4.000000</td>\n",
       "      <td>39.000000</td>\n",
       "      <td>4800.000000</td>\n",
       "      <td>1.000000</td>\n",
       "      <td>1.000000</td>\n",
       "    </tr>\n",
       "  </tbody>\n",
       "</table>\n",
       "</div>"
      ],
      "text/plain": [
       "         ANIMAL_TP   SESSION_DN    SOURCE_ID    CLICK_ANT    ORDER_PRC  \\\n",
       "count  1711.000000  1711.000000  1711.000000  1711.000000  1711.000000   \n",
       "mean      1.715956   103.539544     2.021625    11.331970   505.762127   \n",
       "std       0.815047    53.294424     1.024895     8.479126   711.926234   \n",
       "min       1.000000     0.100000     1.000000     0.000000     0.000000   \n",
       "25%       1.000000    60.190000     1.000000     5.000000     0.000000   \n",
       "50%       1.000000   104.030000     2.000000     8.000000   314.000000   \n",
       "75%       2.000000   146.035000     3.000000    16.000000   725.500000   \n",
       "max       3.000000   649.020000     4.000000    39.000000  4800.000000   \n",
       "\n",
       "          ORDER_ST   CLIENT_INV  \n",
       "count  1711.000000  1711.000000  \n",
       "mean      0.638808     0.132671  \n",
       "std       0.480487     0.339318  \n",
       "min       0.000000     0.000000  \n",
       "25%       0.000000     0.000000  \n",
       "50%       1.000000     0.000000  \n",
       "75%       1.000000     0.000000  \n",
       "max       1.000000     1.000000  "
      ]
     },
     "execution_count": 298,
     "metadata": {},
     "output_type": "execute_result"
    }
   ],
   "source": [
    "zoo.describe()"
   ]
  },
  {
   "cell_type": "markdown",
   "metadata": {},
   "source": [
    "по сути такая табличка нам нужна только чтобы посмотреть количество кликов и цену заказов, потому что остальные переменные или категориальные или бинарные"
   ]
  },
  {
   "cell_type": "markdown",
   "metadata": {},
   "source": [
    "### Строим сводные таблички, чтобы посмотреть на наши данные."
   ]
  },
  {
   "cell_type": "code",
   "execution_count": 299,
   "metadata": {
    "scrolled": true
   },
   "outputs": [
    {
     "data": {
      "text/plain": [
       "       ANIMAL_TP\n",
       "count  1             880.000000\n",
       "       2             437.000000\n",
       "       3             394.000000\n",
       "mean   1             523.556818\n",
       "       2             499.736842\n",
       "       3             472.700508\n",
       "std    1             730.186453\n",
       "       2             715.109068\n",
       "       3             666.060001\n",
       "min    1               0.000000\n",
       "       2               0.000000\n",
       "       3               0.000000\n",
       "25%    1               0.000000\n",
       "       2               0.000000\n",
       "       3               0.000000\n",
       "50%    1             338.000000\n",
       "       2             282.000000\n",
       "       3             259.500000\n",
       "75%    1             733.250000\n",
       "       2             730.000000\n",
       "       3             701.750000\n",
       "max    1            4800.000000\n",
       "       2            4696.000000\n",
       "       3            3428.000000\n",
       "dtype: float64"
      ]
     },
     "execution_count": 299,
     "metadata": {},
     "output_type": "execute_result"
    }
   ],
   "source": [
    "grouped_zoo = zoo.groupby(['ANIMAL_TP'])\n",
    "grouped_zoo['ORDER_PRC'].describe().unstack()"
   ]
  },
  {
   "cell_type": "markdown",
   "metadata": {},
   "source": [
    "Количество заказов для животных: \n",
    "- собак 880\n",
    "- кошек 437\n",
    "- других 394\n",
    "\n",
    "Средняя стоимость заказа: \n",
    "- собаки 523 рубля\n",
    "- кошки 499 рублей\n",
    "- остальные 472 рубля"
   ]
  },
  {
   "cell_type": "code",
   "execution_count": 300,
   "metadata": {},
   "outputs": [
    {
     "data": {
      "text/html": [
       "<div>\n",
       "<style scoped>\n",
       "    .dataframe tbody tr th:only-of-type {\n",
       "        vertical-align: middle;\n",
       "    }\n",
       "\n",
       "    .dataframe tbody tr th {\n",
       "        vertical-align: top;\n",
       "    }\n",
       "\n",
       "    .dataframe thead tr th {\n",
       "        text-align: left;\n",
       "    }\n",
       "\n",
       "    .dataframe thead tr:last-of-type th {\n",
       "        text-align: right;\n",
       "    }\n",
       "</style>\n",
       "<table border=\"1\" class=\"dataframe\">\n",
       "  <thead>\n",
       "    <tr>\n",
       "      <th></th>\n",
       "      <th colspan=\"2\" halign=\"left\">count</th>\n",
       "      <th colspan=\"2\" halign=\"left\">mean</th>\n",
       "      <th colspan=\"2\" halign=\"left\">std</th>\n",
       "      <th colspan=\"2\" halign=\"left\">min</th>\n",
       "      <th colspan=\"2\" halign=\"left\">25%</th>\n",
       "      <th colspan=\"2\" halign=\"left\">50%</th>\n",
       "      <th colspan=\"2\" halign=\"left\">75%</th>\n",
       "      <th colspan=\"2\" halign=\"left\">max</th>\n",
       "    </tr>\n",
       "    <tr>\n",
       "      <th>ORDER_ST</th>\n",
       "      <th>0</th>\n",
       "      <th>1</th>\n",
       "      <th>0</th>\n",
       "      <th>1</th>\n",
       "      <th>0</th>\n",
       "      <th>1</th>\n",
       "      <th>0</th>\n",
       "      <th>1</th>\n",
       "      <th>0</th>\n",
       "      <th>1</th>\n",
       "      <th>0</th>\n",
       "      <th>1</th>\n",
       "      <th>0</th>\n",
       "      <th>1</th>\n",
       "      <th>0</th>\n",
       "      <th>1</th>\n",
       "    </tr>\n",
       "    <tr>\n",
       "      <th>ANIMAL_TP</th>\n",
       "      <th></th>\n",
       "      <th></th>\n",
       "      <th></th>\n",
       "      <th></th>\n",
       "      <th></th>\n",
       "      <th></th>\n",
       "      <th></th>\n",
       "      <th></th>\n",
       "      <th></th>\n",
       "      <th></th>\n",
       "      <th></th>\n",
       "      <th></th>\n",
       "      <th></th>\n",
       "      <th></th>\n",
       "      <th></th>\n",
       "      <th></th>\n",
       "    </tr>\n",
       "  </thead>\n",
       "  <tbody>\n",
       "    <tr>\n",
       "      <th>1</th>\n",
       "      <td>289.0</td>\n",
       "      <td>591.0</td>\n",
       "      <td>0.0</td>\n",
       "      <td>779.576988</td>\n",
       "      <td>0.0</td>\n",
       "      <td>770.980270</td>\n",
       "      <td>0.0</td>\n",
       "      <td>67.0</td>\n",
       "      <td>0.0</td>\n",
       "      <td>333.50</td>\n",
       "      <td>0.0</td>\n",
       "      <td>602.0</td>\n",
       "      <td>0.0</td>\n",
       "      <td>865.00</td>\n",
       "      <td>0.0</td>\n",
       "      <td>4800.0</td>\n",
       "    </tr>\n",
       "    <tr>\n",
       "      <th>2</th>\n",
       "      <td>165.0</td>\n",
       "      <td>272.0</td>\n",
       "      <td>0.0</td>\n",
       "      <td>802.886029</td>\n",
       "      <td>0.0</td>\n",
       "      <td>760.556389</td>\n",
       "      <td>0.0</td>\n",
       "      <td>66.0</td>\n",
       "      <td>0.0</td>\n",
       "      <td>349.50</td>\n",
       "      <td>0.0</td>\n",
       "      <td>594.5</td>\n",
       "      <td>0.0</td>\n",
       "      <td>894.25</td>\n",
       "      <td>0.0</td>\n",
       "      <td>4696.0</td>\n",
       "    </tr>\n",
       "    <tr>\n",
       "      <th>3</th>\n",
       "      <td>164.0</td>\n",
       "      <td>230.0</td>\n",
       "      <td>0.0</td>\n",
       "      <td>809.756522</td>\n",
       "      <td>0.0</td>\n",
       "      <td>698.014209</td>\n",
       "      <td>0.0</td>\n",
       "      <td>71.0</td>\n",
       "      <td>0.0</td>\n",
       "      <td>388.75</td>\n",
       "      <td>0.0</td>\n",
       "      <td>632.0</td>\n",
       "      <td>0.0</td>\n",
       "      <td>914.75</td>\n",
       "      <td>0.0</td>\n",
       "      <td>3428.0</td>\n",
       "    </tr>\n",
       "  </tbody>\n",
       "</table>\n",
       "</div>"
      ],
      "text/plain": [
       "           count        mean              std              min        25%  \\\n",
       "ORDER_ST       0      1    0           1    0           1    0     1    0   \n",
       "ANIMAL_TP                                                                   \n",
       "1          289.0  591.0  0.0  779.576988  0.0  770.980270  0.0  67.0  0.0   \n",
       "2          165.0  272.0  0.0  802.886029  0.0  760.556389  0.0  66.0  0.0   \n",
       "3          164.0  230.0  0.0  809.756522  0.0  698.014209  0.0  71.0  0.0   \n",
       "\n",
       "                   50%         75%          max          \n",
       "ORDER_ST        1    0      1    0       1    0       1  \n",
       "ANIMAL_TP                                                \n",
       "1          333.50  0.0  602.0  0.0  865.00  0.0  4800.0  \n",
       "2          349.50  0.0  594.5  0.0  894.25  0.0  4696.0  \n",
       "3          388.75  0.0  632.0  0.0  914.75  0.0  3428.0  "
      ]
     },
     "execution_count": 300,
     "metadata": {},
     "output_type": "execute_result"
    }
   ],
   "source": [
    "grouped_zoo = zoo.groupby(['ANIMAL_TP', 'ORDER_ST' ])\n",
    "grouped_zoo['ORDER_PRC'].describe().unstack()"
   ]
  },
  {
   "cell_type": "markdown",
   "metadata": {},
   "source": [
    "\n",
    "Собаки:\n",
    "- 591 заказ\n",
    "- 289 отказов\n",
    "\n",
    "Кошки: \n",
    "- 272 заказа\n",
    "- 165 отказов\n",
    "\n",
    "Другие:\n",
    "- 230 заказов\n",
    "- 164 отказа"
   ]
  },
  {
   "cell_type": "markdown",
   "metadata": {},
   "source": [
    "### Попробуем что-нибудь красиво нарисовать"
   ]
  },
  {
   "cell_type": "code",
   "execution_count": 301,
   "metadata": {},
   "outputs": [],
   "source": [
    "#!pip3 install seaborn\n",
    "import seaborn as sns"
   ]
  },
  {
   "cell_type": "code",
   "execution_count": 302,
   "metadata": {},
   "outputs": [
    {
     "data": {
      "text/plain": [
       "Text(0.5, 1.0, 'Количество заказов по типам животных и источнику прихода клиента')"
      ]
     },
     "execution_count": 302,
     "metadata": {},
     "output_type": "execute_result"
    },
    {
     "data": {
      "image/png": "[encoded data removed]",
      "text/plain": [
       "<Figure size 1368x1152 with 2 Axes>"
      ]
     },
     "metadata": {
      "needs_background": "light"
     },
     "output_type": "display_data"
    }
   ],
   "source": [
    "table = pd.pivot_table(zoo2, values=['ORDER_PRC'],index=['ANIMAL_TP'],columns=['SOURCE_ID'],aggfunc='count',margins=False)\n",
    "\n",
    "plt.figure(figsize=(19,16))\n",
    "sns.heatmap(table['ORDER_PRC'],linewidths=.10,annot=True,vmin=0.10,fmt= '2.0f', cmap='PuBu')\n",
    "plt.title('Количество заказов по типам животных и источнику прихода клиента')"
   ]
  },
  {
   "cell_type": "markdown",
   "metadata": {},
   "source": [
    " * Может быть это и **не самый лучший хитмэп, который я строил**, но можно заметить, что SEO как источник имеет наибольшее количество заказов (если сравнивать с другими источниками клиентов). \n",
    "\n",
    " * Более того, **больше всего заказов у собак** (больше синих зон, чем у других животных)."
   ]
  },
  {
   "cell_type": "markdown",
   "metadata": {},
   "source": [
    "### Давайте построим что-то более простое, но наглядное."
   ]
  },
  {
   "cell_type": "code",
   "execution_count": 303,
   "metadata": {
    "scrolled": true
   },
   "outputs": [
    {
     "data": {
      "image/png": "[encoded data removed]",
      "text/plain": [
       "<Figure size 432x288 with 1 Axes>"
      ]
     },
     "metadata": {
      "needs_background": "light"
     },
     "output_type": "display_data"
    }
   ],
   "source": [
    "sns.boxplot(x=\"ORDER_PRC\", y=\"SOURCE_ID\",\n",
    "            data=zoo2, showfliers=False)\n",
    "sns.despine(offset=5, trim=True)"
   ]
  },
  {
   "cell_type": "markdown",
   "metadata": {},
   "source": [
    "Цена заказов больше с клиентов, пришедших с поисковика."
   ]
  },
  {
   "cell_type": "code",
   "execution_count": 304,
   "metadata": {
    "scrolled": true
   },
   "outputs": [
    {
     "data": {
      "image/png": "[encoded data removed]",
      "text/plain": [
       "<Figure size 432x288 with 1 Axes>"
      ]
     },
     "metadata": {
      "needs_background": "light"
     },
     "output_type": "display_data"
    }
   ],
   "source": [
    "sns.boxplot(x=\"ORDER_PRC\", y=\"ANIMAL_TP\",\n",
    "            data=zoo2, showfliers=False)\n",
    "sns.despine(offset=5, trim=True)"
   ]
  },
  {
   "cell_type": "markdown",
   "metadata": {},
   "source": [
    "Собачьи заказы дороже, чем остальные"
   ]
  },
  {
   "cell_type": "code",
   "execution_count": 305,
   "metadata": {},
   "outputs": [
    {
     "data": {
      "image/png": "[encoded data removed]",
      "text/plain": [
       "<Figure size 432x288 with 1 Axes>"
      ]
     },
     "metadata": {
      "needs_background": "light"
     },
     "output_type": "display_data"
    }
   ],
   "source": [
    "sns.boxplot(x=\"ORDER_PRC\", y=\"SOURCE_ID\",\n",
    "            hue=\"ANIMAL_TP\", palette=[\"skyblue\", \"salmon\", \"greenyellow\"],\n",
    "            data=zoo2, showfliers=False)\n",
    "sns.despine(offset=5, trim=True)"
   ]
  },
  {
   "cell_type": "markdown",
   "metadata": {},
   "source": [
    "Интересно отметить, что заказы, которые направлены с других сайтов (**redirect**) больше идут по \"другим\" типам товаров (не конкретно собачьи или кошачьи).\n",
    "А те, кто заходят на сайт специально (**direct**) практически не заказывают \"другие\" типы товаров."
   ]
  },
  {
   "cell_type": "code",
   "execution_count": 306,
   "metadata": {
    "scrolled": false
   },
   "outputs": [
    {
     "data": {
      "image/png": "[encoded data removed]",
      "text/plain": [
       "<Figure size 432x288 with 1 Axes>"
      ]
     },
     "metadata": {
      "needs_background": "light"
     },
     "output_type": "display_data"
    }
   ],
   "source": [
    "# с нулевыми заказами\n",
    "p1=sns.kdeplot(zoo2['ORDER_PRC'], shade=True, color=\"r\")"
   ]
  },
  {
   "cell_type": "markdown",
   "metadata": {},
   "source": [
    "Цена распределена немного странно. Но сокрее всего такое распределение получилось из-за 2-х факторов: \n",
    "- У нас в данных есть заказы без цены (те, которые не произошли, ORDER_ST = 0)\n",
    "- У нас только часть данных за определенный период"
   ]
  },
  {
   "cell_type": "code",
   "execution_count": 307,
   "metadata": {
    "scrolled": true
   },
   "outputs": [
    {
     "data": {
      "image/png": "[encoded data removed]",
      "text/plain": [
       "<Figure size 432x288 with 1 Axes>"
      ]
     },
     "metadata": {
      "needs_background": "light"
     },
     "output_type": "display_data"
    }
   ],
   "source": [
    "# с нулевыми заказами\n",
    "p1=sns.kdeplot(zoo2['CLICK_ANT'], shade=True, color=\"b\")"
   ]
  },
  {
   "cell_type": "markdown",
   "metadata": {},
   "source": [
    "Распределение количества кликов по нашему сайту. Интересно, что большинство кликов находится в диапазоне от 0 до 10. Наверное это означает, что сайт хорошо сделан и человеку не нужно долго кликать и искать нужный товар. Или, возможно, у нас есть много клиентов, которые ничего не заказывали и => мало кликали по сайту."
   ]
  },
  {
   "cell_type": "code",
   "execution_count": 308,
   "metadata": {},
   "outputs": [
    {
     "data": {
      "image/png": "[encoded data removed]",
      "text/plain": [
       "<Figure size 432x288 with 1 Axes>"
      ]
     },
     "metadata": {
      "needs_background": "light"
     },
     "output_type": "display_data"
    }
   ],
   "source": [
    "# С нулевыми заказами\n",
    "p1=sns.kdeplot(zoo2['SESSION_DN'], shade=True, color=\"g\")"
   ]
  },
  {
   "cell_type": "markdown",
   "metadata": {},
   "source": [
    "Распределение длительности пребывания на сайте. "
   ]
  },
  {
   "cell_type": "markdown",
   "metadata": {},
   "source": [
    "### Давайте уберем нулевые заказы и посморим как изменились распределения"
   ]
  },
  {
   "cell_type": "code",
   "execution_count": 309,
   "metadata": {},
   "outputs": [],
   "source": [
    "zoo3 = zoo.query(\"ORDER_PRC != '0'\")"
   ]
  },
  {
   "cell_type": "code",
   "execution_count": 310,
   "metadata": {
    "scrolled": false
   },
   "outputs": [
    {
     "data": {
      "image/png": "[encoded data removed]",
      "text/plain": [
       "<Figure size 432x288 with 1 Axes>"
      ]
     },
     "metadata": {
      "needs_background": "light"
     },
     "output_type": "display_data"
    }
   ],
   "source": [
    "# без нулевых заказов\n",
    "p1=sns.kdeplot(zoo3['ORDER_PRC'], shade=True, color=\"r\")"
   ]
  },
  {
   "cell_type": "markdown",
   "metadata": {},
   "source": [
    "Цена сдвинулась ближе к 1000 рублей. (логично, мы же убрали значения 0 рублей (**order_st = 1**)"
   ]
  },
  {
   "cell_type": "code",
   "execution_count": 311,
   "metadata": {
    "scrolled": true
   },
   "outputs": [
    {
     "data": {
      "image/png": "[encoded data removed]",
      "text/plain": [
       "<Figure size 432x288 with 1 Axes>"
      ]
     },
     "metadata": {
      "needs_background": "light"
     },
     "output_type": "display_data"
    }
   ],
   "source": [
    "# без нулевых заказов\n",
    "p1=sns.kdeplot(zoo3['CLICK_ANT'], shade=True, color=\"b\")"
   ]
  },
  {
   "cell_type": "markdown",
   "metadata": {},
   "source": [
    "Интересно, теперь увеличилось количество кликов от 10 до 20. Наверное ушли те люди, которые зашли на сайт, посмотрели быстро и ушли (ничего не заказав)."
   ]
  },
  {
   "cell_type": "code",
   "execution_count": 312,
   "metadata": {
    "scrolled": true
   },
   "outputs": [
    {
     "data": {
      "image/png": "[encoded data removed]",
      "text/plain": [
       "<Figure size 432x288 with 1 Axes>"
      ]
     },
     "metadata": {
      "needs_background": "light"
     },
     "output_type": "display_data"
    }
   ],
   "source": [
    "# без нулевых заказов\n",
    "p1=sns.kdeplot(zoo3['SESSION_DN'], shade=True, color=\"g\")"
   ]
  },
  {
   "cell_type": "markdown",
   "metadata": {},
   "source": [
    "Время пребывания на сайте также возросло."
   ]
  },
  {
   "cell_type": "markdown",
   "metadata": {},
   "source": [
    "# Гипотезы и построение моделей"
   ]
  },
  {
   "cell_type": "markdown",
   "metadata": {},
   "source": [
    "На основе дискриптивной статистики (я постарался сделать её как можно разнообразнее – насколько мне хватает навыков питона) можно сделать некоторые выводы.\n",
    "\n",
    "### 1. Собачьих товаров больше в целом\n",
    "### 2. Собачьих товаров больше куплено\n",
    "### 3. SEO - самый частый источник прихода клиентов\n",
    "### 4. Длительность сессии на сайте, количество кликов по сайту, стоимость заказа выше, когда нет нулевых заказов\n",
    "\n",
    "Думаю, что перечисленные выше факторы будут весомыми при построение классификационных моделей. \n",
    "К сожалению, здесь непонятна `каузальная` связь (потому что переменные будут связаны в двустороннем порядке).\n",
    "Несмотря на это давайте попробуем построить модели."
   ]
  },
  {
   "cell_type": "markdown",
   "metadata": {},
   "source": [
    "## Модели"
   ]
  },
  {
   "cell_type": "code",
   "execution_count": 313,
   "metadata": {
    "scrolled": true
   },
   "outputs": [
    {
     "data": {
      "text/html": [
       "<div>\n",
       "<style scoped>\n",
       "    .dataframe tbody tr th:only-of-type {\n",
       "        vertical-align: middle;\n",
       "    }\n",
       "\n",
       "    .dataframe tbody tr th {\n",
       "        vertical-align: top;\n",
       "    }\n",
       "\n",
       "    .dataframe thead th {\n",
       "        text-align: right;\n",
       "    }\n",
       "</style>\n",
       "<table border=\"1\" class=\"dataframe\">\n",
       "  <thead>\n",
       "    <tr style=\"text-align: right;\">\n",
       "      <th></th>\n",
       "      <th>ANIMAL_TP</th>\n",
       "      <th>SESSION_DN</th>\n",
       "      <th>SOURCE_ID</th>\n",
       "      <th>CLICK_ANT</th>\n",
       "      <th>ORDER_PRC</th>\n",
       "      <th>ORDER_ST</th>\n",
       "      <th>CLIENT_INV</th>\n",
       "    </tr>\n",
       "  </thead>\n",
       "  <tbody>\n",
       "    <tr>\n",
       "      <th>0</th>\n",
       "      <td>1</td>\n",
       "      <td>79.83</td>\n",
       "      <td>1</td>\n",
       "      <td>35</td>\n",
       "      <td>1516</td>\n",
       "      <td>1</td>\n",
       "      <td>0</td>\n",
       "    </tr>\n",
       "    <tr>\n",
       "      <th>1</th>\n",
       "      <td>2</td>\n",
       "      <td>103.97</td>\n",
       "      <td>2</td>\n",
       "      <td>4</td>\n",
       "      <td>745</td>\n",
       "      <td>1</td>\n",
       "      <td>0</td>\n",
       "    </tr>\n",
       "    <tr>\n",
       "      <th>2</th>\n",
       "      <td>2</td>\n",
       "      <td>74.87</td>\n",
       "      <td>1</td>\n",
       "      <td>8</td>\n",
       "      <td>0</td>\n",
       "      <td>0</td>\n",
       "      <td>0</td>\n",
       "    </tr>\n",
       "    <tr>\n",
       "      <th>3</th>\n",
       "      <td>2</td>\n",
       "      <td>154.41</td>\n",
       "      <td>1</td>\n",
       "      <td>6</td>\n",
       "      <td>182</td>\n",
       "      <td>1</td>\n",
       "      <td>0</td>\n",
       "    </tr>\n",
       "    <tr>\n",
       "      <th>4</th>\n",
       "      <td>1</td>\n",
       "      <td>88.49</td>\n",
       "      <td>2</td>\n",
       "      <td>37</td>\n",
       "      <td>725</td>\n",
       "      <td>1</td>\n",
       "      <td>0</td>\n",
       "    </tr>\n",
       "  </tbody>\n",
       "</table>\n",
       "</div>"
      ],
      "text/plain": [
       "   ANIMAL_TP  SESSION_DN  SOURCE_ID  CLICK_ANT  ORDER_PRC  ORDER_ST  \\\n",
       "0          1       79.83          1         35       1516         1   \n",
       "1          2      103.97          2          4        745         1   \n",
       "2          2       74.87          1          8          0         0   \n",
       "3          2      154.41          1          6        182         1   \n",
       "4          1       88.49          2         37        725         1   \n",
       "\n",
       "   CLIENT_INV  \n",
       "0           0  \n",
       "1           0  \n",
       "2           0  \n",
       "3           0  \n",
       "4           0  "
      ]
     },
     "execution_count": 313,
     "metadata": {},
     "output_type": "execute_result"
    }
   ],
   "source": [
    "zoo4 = zoo\n",
    "zoo4.head()"
   ]
  },
  {
   "cell_type": "code",
   "execution_count": 314,
   "metadata": {
    "scrolled": true
   },
   "outputs": [
    {
     "data": {
      "text/html": [
       "<div>\n",
       "<style scoped>\n",
       "    .dataframe tbody tr th:only-of-type {\n",
       "        vertical-align: middle;\n",
       "    }\n",
       "\n",
       "    .dataframe tbody tr th {\n",
       "        vertical-align: top;\n",
       "    }\n",
       "\n",
       "    .dataframe thead th {\n",
       "        text-align: right;\n",
       "    }\n",
       "</style>\n",
       "<table border=\"1\" class=\"dataframe\">\n",
       "  <thead>\n",
       "    <tr style=\"text-align: right;\">\n",
       "      <th></th>\n",
       "      <th>ANIMAL_TP</th>\n",
       "      <th>SESSION_DN</th>\n",
       "      <th>SOURCE_ID</th>\n",
       "      <th>CLICK_ANT</th>\n",
       "      <th>ORDER_PRC</th>\n",
       "      <th>ORDER_ST</th>\n",
       "    </tr>\n",
       "  </thead>\n",
       "  <tbody>\n",
       "    <tr>\n",
       "      <th>0</th>\n",
       "      <td>1</td>\n",
       "      <td>79.83</td>\n",
       "      <td>1</td>\n",
       "      <td>35</td>\n",
       "      <td>1516</td>\n",
       "      <td>1</td>\n",
       "    </tr>\n",
       "    <tr>\n",
       "      <th>1</th>\n",
       "      <td>2</td>\n",
       "      <td>103.97</td>\n",
       "      <td>2</td>\n",
       "      <td>4</td>\n",
       "      <td>745</td>\n",
       "      <td>1</td>\n",
       "    </tr>\n",
       "    <tr>\n",
       "      <th>2</th>\n",
       "      <td>2</td>\n",
       "      <td>74.87</td>\n",
       "      <td>1</td>\n",
       "      <td>8</td>\n",
       "      <td>0</td>\n",
       "      <td>0</td>\n",
       "    </tr>\n",
       "    <tr>\n",
       "      <th>3</th>\n",
       "      <td>2</td>\n",
       "      <td>154.41</td>\n",
       "      <td>1</td>\n",
       "      <td>6</td>\n",
       "      <td>182</td>\n",
       "      <td>1</td>\n",
       "    </tr>\n",
       "    <tr>\n",
       "      <th>4</th>\n",
       "      <td>1</td>\n",
       "      <td>88.49</td>\n",
       "      <td>2</td>\n",
       "      <td>37</td>\n",
       "      <td>725</td>\n",
       "      <td>1</td>\n",
       "    </tr>\n",
       "  </tbody>\n",
       "</table>\n",
       "</div>"
      ],
      "text/plain": [
       "   ANIMAL_TP  SESSION_DN  SOURCE_ID  CLICK_ANT  ORDER_PRC  ORDER_ST\n",
       "0          1       79.83          1         35       1516         1\n",
       "1          2      103.97          2          4        745         1\n",
       "2          2       74.87          1          8          0         0\n",
       "3          2      154.41          1          6        182         1\n",
       "4          1       88.49          2         37        725         1"
      ]
     },
     "execution_count": 314,
     "metadata": {},
     "output_type": "execute_result"
    }
   ],
   "source": [
    "#уберем переменную про приглашение клиентов, потому что будем её предсказывать/использовать потом\n",
    "zoo4 = zoo4.drop(zoo4.columns[6], axis = 1) \n",
    "zoo4.head()"
   ]
  },
  {
   "cell_type": "code",
   "execution_count": 315,
   "metadata": {},
   "outputs": [],
   "source": [
    "X = zoo4.iloc[:,0:5].values\n",
    "y = zoo4.iloc[:,5].values"
   ]
  },
  {
   "cell_type": "code",
   "execution_count": 316,
   "metadata": {},
   "outputs": [],
   "source": [
    "from sklearn.model_selection import train_test_split\n",
    "X_train, X_test, y_train, y_test = train_test_split(X, y, test_size = 1/3, random_state = 0)"
   ]
  },
  {
   "cell_type": "code",
   "execution_count": 317,
   "metadata": {
    "scrolled": true
   },
   "outputs": [
    {
     "name": "stderr",
     "output_type": "stream",
     "text": [
      "/Library/Frameworks/Python.framework/Versions/3.6/lib/python3.6/site-packages/sklearn/linear_model/logistic.py:432: FutureWarning: Default solver will be changed to 'lbfgs' in 0.22. Specify a solver to silence this warning.\n",
      "  FutureWarning)\n",
      "/Library/Frameworks/Python.framework/Versions/3.6/lib/python3.6/site-packages/sklearn/linear_model/logistic.py:432: FutureWarning: Default solver will be changed to 'lbfgs' in 0.22. Specify a solver to silence this warning.\n",
      "  FutureWarning)\n",
      "/Library/Frameworks/Python.framework/Versions/3.6/lib/python3.6/site-packages/sklearn/linear_model/logistic.py:432: FutureWarning: Default solver will be changed to 'lbfgs' in 0.22. Specify a solver to silence this warning.\n",
      "  FutureWarning)\n",
      "/Library/Frameworks/Python.framework/Versions/3.6/lib/python3.6/site-packages/sklearn/linear_model/logistic.py:432: FutureWarning: Default solver will be changed to 'lbfgs' in 0.22. Specify a solver to silence this warning.\n",
      "  FutureWarning)\n"
     ]
    },
    {
     "data": {
      "text/plain": [
       "1.0"
      ]
     },
     "execution_count": 317,
     "metadata": {},
     "output_type": "execute_result"
    }
   ],
   "source": [
    "from sklearn.linear_model import LogisticRegression\n",
    "from sklearn.model_selection import cross_val_score\n",
    "\n",
    "# логистическая регрессия\n",
    "logreg = LogisticRegression()\n",
    "logreg.fit(X_train, y_train)\n",
    "logreg.score(X_train, y_train), logreg.score(X_test, y_test)\n",
    "\n",
    "\n",
    "results = cross_val_score(logreg, X_train, y_train, cv=3)\n",
    "# результаты кросс-валидации\n",
    "results\n",
    "results.mean()"
   ]
  },
  {
   "cell_type": "markdown",
   "metadata": {},
   "source": [
    "О нет...................."
   ]
  },
  {
   "cell_type": "code",
   "execution_count": 318,
   "metadata": {},
   "outputs": [
    {
     "name": "stderr",
     "output_type": "stream",
     "text": [
      "/Library/Frameworks/Python.framework/Versions/3.6/lib/python3.6/site-packages/sklearn/linear_model/logistic.py:432: FutureWarning: Default solver will be changed to 'lbfgs' in 0.22. Specify a solver to silence this warning.\n",
      "  FutureWarning)\n",
      "/Library/Frameworks/Python.framework/Versions/3.6/lib/python3.6/site-packages/sklearn/linear_model/logistic.py:432: FutureWarning: Default solver will be changed to 'lbfgs' in 0.22. Specify a solver to silence this warning.\n",
      "  FutureWarning)\n",
      "/Library/Frameworks/Python.framework/Versions/3.6/lib/python3.6/site-packages/sklearn/linear_model/logistic.py:432: FutureWarning: Default solver will be changed to 'lbfgs' in 0.22. Specify a solver to silence this warning.\n",
      "  FutureWarning)\n",
      "/Library/Frameworks/Python.framework/Versions/3.6/lib/python3.6/site-packages/sklearn/linear_model/logistic.py:432: FutureWarning: Default solver will be changed to 'lbfgs' in 0.22. Specify a solver to silence this warning.\n",
      "  FutureWarning)\n"
     ]
    },
    {
     "data": {
      "text/plain": [
       "1.0"
      ]
     },
     "execution_count": 318,
     "metadata": {},
     "output_type": "execute_result"
    }
   ],
   "source": [
    "# с регуляризацией\n",
    "logreg2 = LogisticRegression(C=4)\n",
    "logreg2.fit(X_train, y_train)\n",
    "logreg2.score(X_train, y_train), logreg2.score(X_test, y_test)\n",
    "results = cross_val_score(logreg2, X_train, y_train, cv=3)\n",
    "# результаты кросс-валидации\n",
    "results\n",
    "results.mean()"
   ]
  },
  {
   "cell_type": "markdown",
   "metadata": {},
   "source": [
    "Нет......................."
   ]
  },
  {
   "cell_type": "code",
   "execution_count": 319,
   "metadata": {
    "scrolled": true
   },
   "outputs": [
    {
     "data": {
      "text/plain": [
       "1.0"
      ]
     },
     "execution_count": 319,
     "metadata": {},
     "output_type": "execute_result"
    }
   ],
   "source": [
    "# дерево\n",
    "from sklearn.tree import DecisionTreeClassifier\n",
    "tree = DecisionTreeClassifier()\n",
    "tree.fit(X_train, y_train)\n",
    "tree.score(X_train, y_train), tree.score(X_test, y_test)\n",
    "#print(tree.score(X_train, y_train), tree.score(X_test, y_test))\n",
    "\n",
    "results = cross_val_score(tree, X_train, y_train, cv=3)\n",
    "# результаты кросс-валидации\n",
    "results\n",
    "results.mean()"
   ]
  },
  {
   "cell_type": "markdown",
   "metadata": {},
   "source": [
    "Пожалуйста............"
   ]
  },
  {
   "cell_type": "code",
   "execution_count": 320,
   "metadata": {
    "scrolled": false
   },
   "outputs": [
    {
     "name": "stderr",
     "output_type": "stream",
     "text": [
      "/Library/Frameworks/Python.framework/Versions/3.6/lib/python3.6/site-packages/sklearn/linear_model/logistic.py:432: FutureWarning: Default solver will be changed to 'lbfgs' in 0.22. Specify a solver to silence this warning.\n",
      "  FutureWarning)\n",
      "/Library/Frameworks/Python.framework/Versions/3.6/lib/python3.6/site-packages/sklearn/linear_model/logistic.py:432: FutureWarning: Default solver will be changed to 'lbfgs' in 0.22. Specify a solver to silence this warning.\n",
      "  FutureWarning)\n",
      "/Library/Frameworks/Python.framework/Versions/3.6/lib/python3.6/site-packages/sklearn/linear_model/logistic.py:432: FutureWarning: Default solver will be changed to 'lbfgs' in 0.22. Specify a solver to silence this warning.\n",
      "  FutureWarning)\n",
      "/Library/Frameworks/Python.framework/Versions/3.6/lib/python3.6/site-packages/sklearn/linear_model/logistic.py:432: FutureWarning: Default solver will be changed to 'lbfgs' in 0.22. Specify a solver to silence this warning.\n",
      "  FutureWarning)\n",
      "/Library/Frameworks/Python.framework/Versions/3.6/lib/python3.6/site-packages/sklearn/linear_model/logistic.py:432: FutureWarning: Default solver will be changed to 'lbfgs' in 0.22. Specify a solver to silence this warning.\n",
      "  FutureWarning)\n",
      "/Library/Frameworks/Python.framework/Versions/3.6/lib/python3.6/site-packages/sklearn/linear_model/logistic.py:432: FutureWarning: Default solver will be changed to 'lbfgs' in 0.22. Specify a solver to silence this warning.\n",
      "  FutureWarning)\n",
      "/Library/Frameworks/Python.framework/Versions/3.6/lib/python3.6/site-packages/sklearn/linear_model/logistic.py:432: FutureWarning: Default solver will be changed to 'lbfgs' in 0.22. Specify a solver to silence this warning.\n",
      "  FutureWarning)\n",
      "/Library/Frameworks/Python.framework/Versions/3.6/lib/python3.6/site-packages/sklearn/linear_model/logistic.py:432: FutureWarning: Default solver will be changed to 'lbfgs' in 0.22. Specify a solver to silence this warning.\n",
      "  FutureWarning)\n"
     ]
    },
    {
     "data": {
      "text/plain": [
       "1.0"
      ]
     },
     "execution_count": 320,
     "metadata": {},
     "output_type": "execute_result"
    }
   ],
   "source": [
    "from sklearn.ensemble import VotingClassifier\n",
    "modelVote = VotingClassifier(estimators=[('lr', logreg), ('dt', tree), ('lrreg', logreg2)], voting='hard')\n",
    "modelVote.fit(X_train,y_train)\n",
    "modelVote.score(X_train,y_train), modelVote.score(X_test,y_test)\n",
    "\n",
    "results = cross_val_score(modelVote, X_train, y_train, cv=3)\n",
    "# результаты кросс-валидации\n",
    "results\n",
    "\n",
    "results.mean()"
   ]
  },
  {
   "cell_type": "markdown",
   "metadata": {},
   "source": [
    "Такой подставы я не ожидал......."
   ]
  },
  {
   "cell_type": "code",
   "execution_count": 321,
   "metadata": {
    "scrolled": true
   },
   "outputs": [
    {
     "data": {
      "text/plain": [
       "1.0"
      ]
     },
     "execution_count": 321,
     "metadata": {},
     "output_type": "execute_result"
    }
   ],
   "source": [
    "from sklearn.ensemble import ExtraTreesClassifier\n",
    "modelET = ExtraTreesClassifier(n_estimators=100, max_features=5)\n",
    "modelET.fit(X_train, y_train)\n",
    "modelET.score(X_train, y_train), modelET.score(X_test, y_test)\n",
    "\n",
    "results = cross_val_score(modelET, X_train, y_train, cv=3)\n",
    "# результаты кросс-валидации\n",
    "results\n",
    "\n",
    "results.mean()"
   ]
  },
  {
   "cell_type": "markdown",
   "metadata": {},
   "source": [
    "Жесть..."
   ]
  },
  {
   "cell_type": "code",
   "execution_count": 322,
   "metadata": {},
   "outputs": [
    {
     "data": {
      "text/plain": [
       "1.0"
      ]
     },
     "execution_count": 322,
     "metadata": {},
     "output_type": "execute_result"
    }
   ],
   "source": [
    "from sklearn.ensemble import GradientBoostingClassifier\n",
    "modelGB = GradientBoostingClassifier(n_estimators=100)\n",
    "modelGB.fit(X_train, y_train)\n",
    "modelGB.score(X_train, y_train), modelGB.score(X_test, y_test)\n",
    "\n",
    "results = cross_val_score(modelGB, X_train, y_train, cv=3)\n",
    "# результаты кросс-валидации\n",
    "results\n",
    "\n",
    "results.mean()"
   ]
  },
  {
   "cell_type": "markdown",
   "metadata": {},
   "source": [
    "Пожалуй, этого достаточно!"
   ]
  },
  {
   "cell_type": "markdown",
   "metadata": {},
   "source": [
    "## Итог первого этапа..\n",
    "Кто же знал, что мне дадут настолько скоррелированные данные. **Это ужас!** \n",
    "Мы не можем учить модели на этих данных, потому что переменные слишком сильно коррелируют и все модели дают результат 1.0...."
   ]
  },
  {
   "cell_type": "markdown",
   "metadata": {},
   "source": [
    "## Не будем сдаваться. Давайте отфильтруем данные только по собакам (потому что их больше всего) и попробуем еще раз."
   ]
  },
  {
   "cell_type": "code",
   "execution_count": 323,
   "metadata": {},
   "outputs": [],
   "source": [
    "zoo5 = zoo4"
   ]
  },
  {
   "cell_type": "code",
   "execution_count": 324,
   "metadata": {},
   "outputs": [
    {
     "data": {
      "text/html": [
       "<div>\n",
       "<style scoped>\n",
       "    .dataframe tbody tr th:only-of-type {\n",
       "        vertical-align: middle;\n",
       "    }\n",
       "\n",
       "    .dataframe tbody tr th {\n",
       "        vertical-align: top;\n",
       "    }\n",
       "\n",
       "    .dataframe thead th {\n",
       "        text-align: right;\n",
       "    }\n",
       "</style>\n",
       "<table border=\"1\" class=\"dataframe\">\n",
       "  <thead>\n",
       "    <tr style=\"text-align: right;\">\n",
       "      <th></th>\n",
       "      <th>ANIMAL_TP</th>\n",
       "      <th>SESSION_DN</th>\n",
       "      <th>SOURCE_ID</th>\n",
       "      <th>CLICK_ANT</th>\n",
       "      <th>ORDER_PRC</th>\n",
       "      <th>ORDER_ST</th>\n",
       "    </tr>\n",
       "  </thead>\n",
       "  <tbody>\n",
       "    <tr>\n",
       "      <th>0</th>\n",
       "      <td>1</td>\n",
       "      <td>79.83</td>\n",
       "      <td>1</td>\n",
       "      <td>35</td>\n",
       "      <td>1516</td>\n",
       "      <td>1</td>\n",
       "    </tr>\n",
       "    <tr>\n",
       "      <th>1</th>\n",
       "      <td>2</td>\n",
       "      <td>103.97</td>\n",
       "      <td>2</td>\n",
       "      <td>4</td>\n",
       "      <td>745</td>\n",
       "      <td>1</td>\n",
       "    </tr>\n",
       "    <tr>\n",
       "      <th>2</th>\n",
       "      <td>2</td>\n",
       "      <td>74.87</td>\n",
       "      <td>1</td>\n",
       "      <td>8</td>\n",
       "      <td>0</td>\n",
       "      <td>0</td>\n",
       "    </tr>\n",
       "    <tr>\n",
       "      <th>3</th>\n",
       "      <td>2</td>\n",
       "      <td>154.41</td>\n",
       "      <td>1</td>\n",
       "      <td>6</td>\n",
       "      <td>182</td>\n",
       "      <td>1</td>\n",
       "    </tr>\n",
       "    <tr>\n",
       "      <th>4</th>\n",
       "      <td>1</td>\n",
       "      <td>88.49</td>\n",
       "      <td>2</td>\n",
       "      <td>37</td>\n",
       "      <td>725</td>\n",
       "      <td>1</td>\n",
       "    </tr>\n",
       "  </tbody>\n",
       "</table>\n",
       "</div>"
      ],
      "text/plain": [
       "   ANIMAL_TP  SESSION_DN  SOURCE_ID  CLICK_ANT  ORDER_PRC  ORDER_ST\n",
       "0          1       79.83          1         35       1516         1\n",
       "1          2      103.97          2          4        745         1\n",
       "2          2       74.87          1          8          0         0\n",
       "3          2      154.41          1          6        182         1\n",
       "4          1       88.49          2         37        725         1"
      ]
     },
     "execution_count": 324,
     "metadata": {},
     "output_type": "execute_result"
    }
   ],
   "source": [
    "zoo5.head()"
   ]
  },
  {
   "cell_type": "code",
   "execution_count": 325,
   "metadata": {
    "scrolled": true
   },
   "outputs": [
    {
     "data": {
      "text/html": [
       "<div>\n",
       "<style scoped>\n",
       "    .dataframe tbody tr th:only-of-type {\n",
       "        vertical-align: middle;\n",
       "    }\n",
       "\n",
       "    .dataframe tbody tr th {\n",
       "        vertical-align: top;\n",
       "    }\n",
       "\n",
       "    .dataframe thead th {\n",
       "        text-align: right;\n",
       "    }\n",
       "</style>\n",
       "<table border=\"1\" class=\"dataframe\">\n",
       "  <thead>\n",
       "    <tr style=\"text-align: right;\">\n",
       "      <th></th>\n",
       "      <th>ANIMAL_TP</th>\n",
       "      <th>SESSION_DN</th>\n",
       "      <th>SOURCE_ID</th>\n",
       "      <th>CLICK_ANT</th>\n",
       "      <th>ORDER_PRC</th>\n",
       "      <th>ORDER_ST</th>\n",
       "    </tr>\n",
       "  </thead>\n",
       "  <tbody>\n",
       "    <tr>\n",
       "      <th>0</th>\n",
       "      <td>1</td>\n",
       "      <td>79.83</td>\n",
       "      <td>1</td>\n",
       "      <td>35</td>\n",
       "      <td>1516</td>\n",
       "      <td>1</td>\n",
       "    </tr>\n",
       "    <tr>\n",
       "      <th>4</th>\n",
       "      <td>1</td>\n",
       "      <td>88.49</td>\n",
       "      <td>2</td>\n",
       "      <td>37</td>\n",
       "      <td>725</td>\n",
       "      <td>1</td>\n",
       "    </tr>\n",
       "    <tr>\n",
       "      <th>5</th>\n",
       "      <td>1</td>\n",
       "      <td>188.51</td>\n",
       "      <td>3</td>\n",
       "      <td>7</td>\n",
       "      <td>2456</td>\n",
       "      <td>1</td>\n",
       "    </tr>\n",
       "    <tr>\n",
       "      <th>7</th>\n",
       "      <td>1</td>\n",
       "      <td>32.61</td>\n",
       "      <td>3</td>\n",
       "      <td>1</td>\n",
       "      <td>928</td>\n",
       "      <td>1</td>\n",
       "    </tr>\n",
       "    <tr>\n",
       "      <th>8</th>\n",
       "      <td>1</td>\n",
       "      <td>48.64</td>\n",
       "      <td>3</td>\n",
       "      <td>3</td>\n",
       "      <td>128</td>\n",
       "      <td>1</td>\n",
       "    </tr>\n",
       "  </tbody>\n",
       "</table>\n",
       "</div>"
      ],
      "text/plain": [
       "   ANIMAL_TP  SESSION_DN  SOURCE_ID  CLICK_ANT  ORDER_PRC  ORDER_ST\n",
       "0          1       79.83          1         35       1516         1\n",
       "4          1       88.49          2         37        725         1\n",
       "5          1      188.51          3          7       2456         1\n",
       "7          1       32.61          3          1        928         1\n",
       "8          1       48.64          3          3        128         1"
      ]
     },
     "execution_count": 325,
     "metadata": {},
     "output_type": "execute_result"
    }
   ],
   "source": [
    "zoo5 = zoo4.query(\"ANIMAL_TP == '1'\")\n",
    "zoo5.head()"
   ]
  },
  {
   "cell_type": "code",
   "execution_count": 326,
   "metadata": {},
   "outputs": [],
   "source": [
    "X = zoo5.iloc[:,0:5].values\n",
    "y = zoo5.iloc[:,5].values"
   ]
  },
  {
   "cell_type": "code",
   "execution_count": 327,
   "metadata": {},
   "outputs": [],
   "source": [
    "from sklearn.model_selection import train_test_split\n",
    "X_train, X_test, y_train, y_test = train_test_split(X, y, test_size = 1/3, random_state = 0)"
   ]
  },
  {
   "cell_type": "code",
   "execution_count": 328,
   "metadata": {
    "scrolled": true
   },
   "outputs": [
    {
     "name": "stderr",
     "output_type": "stream",
     "text": [
      "/Library/Frameworks/Python.framework/Versions/3.6/lib/python3.6/site-packages/sklearn/linear_model/logistic.py:432: FutureWarning: Default solver will be changed to 'lbfgs' in 0.22. Specify a solver to silence this warning.\n",
      "  FutureWarning)\n",
      "/Library/Frameworks/Python.framework/Versions/3.6/lib/python3.6/site-packages/sklearn/linear_model/logistic.py:432: FutureWarning: Default solver will be changed to 'lbfgs' in 0.22. Specify a solver to silence this warning.\n",
      "  FutureWarning)\n",
      "/Library/Frameworks/Python.framework/Versions/3.6/lib/python3.6/site-packages/sklearn/linear_model/logistic.py:432: FutureWarning: Default solver will be changed to 'lbfgs' in 0.22. Specify a solver to silence this warning.\n",
      "  FutureWarning)\n",
      "/Library/Frameworks/Python.framework/Versions/3.6/lib/python3.6/site-packages/sklearn/linear_model/logistic.py:432: FutureWarning: Default solver will be changed to 'lbfgs' in 0.22. Specify a solver to silence this warning.\n",
      "  FutureWarning)\n"
     ]
    },
    {
     "data": {
      "text/plain": [
       "0.9982905982905983"
      ]
     },
     "execution_count": 328,
     "metadata": {},
     "output_type": "execute_result"
    }
   ],
   "source": [
    "from sklearn.linear_model import LogisticRegression\n",
    "from sklearn.model_selection import cross_val_score\n",
    "\n",
    "# логистическая регрессия\n",
    "logreg = LogisticRegression()\n",
    "logreg.fit(X_train, y_train)\n",
    "logreg.score(X_train, y_train), logreg.score(X_test, y_test)\n",
    "\n",
    "\n",
    "results = cross_val_score(logreg, X_train, y_train, cv=3)\n",
    "# результаты кросс-валидации\n",
    "results\n",
    "results.mean()"
   ]
  },
  {
   "cell_type": "code",
   "execution_count": 329,
   "metadata": {
    "scrolled": true
   },
   "outputs": [
    {
     "name": "stderr",
     "output_type": "stream",
     "text": [
      "/Library/Frameworks/Python.framework/Versions/3.6/lib/python3.6/site-packages/sklearn/linear_model/logistic.py:432: FutureWarning: Default solver will be changed to 'lbfgs' in 0.22. Specify a solver to silence this warning.\n",
      "  FutureWarning)\n",
      "/Library/Frameworks/Python.framework/Versions/3.6/lib/python3.6/site-packages/sklearn/linear_model/logistic.py:432: FutureWarning: Default solver will be changed to 'lbfgs' in 0.22. Specify a solver to silence this warning.\n",
      "  FutureWarning)\n",
      "/Library/Frameworks/Python.framework/Versions/3.6/lib/python3.6/site-packages/sklearn/linear_model/logistic.py:432: FutureWarning: Default solver will be changed to 'lbfgs' in 0.22. Specify a solver to silence this warning.\n",
      "  FutureWarning)\n",
      "/Library/Frameworks/Python.framework/Versions/3.6/lib/python3.6/site-packages/sklearn/linear_model/logistic.py:432: FutureWarning: Default solver will be changed to 'lbfgs' in 0.22. Specify a solver to silence this warning.\n",
      "  FutureWarning)\n"
     ]
    },
    {
     "data": {
      "text/plain": [
       "0.9982905982905983"
      ]
     },
     "execution_count": 329,
     "metadata": {},
     "output_type": "execute_result"
    }
   ],
   "source": [
    "# с регуляризацией\n",
    "logreg2 = LogisticRegression(C=4)\n",
    "logreg2.fit(X_train, y_train)\n",
    "logreg2.score(X_train, y_train), logreg2.score(X_test, y_test)\n",
    "results = cross_val_score(logreg2, X_train, y_train, cv=3)\n",
    "# результаты кросс-валидации\n",
    "results\n",
    "results.mean()"
   ]
  },
  {
   "cell_type": "code",
   "execution_count": 330,
   "metadata": {},
   "outputs": [
    {
     "data": {
      "text/plain": [
       "1.0"
      ]
     },
     "execution_count": 330,
     "metadata": {},
     "output_type": "execute_result"
    }
   ],
   "source": [
    "# дерево\n",
    "from sklearn.tree import DecisionTreeClassifier\n",
    "tree = DecisionTreeClassifier()\n",
    "tree.fit(X_train, y_train)\n",
    "tree.score(X_train, y_train), tree.score(X_test, y_test)\n",
    "#print(tree.score(X_train, y_train), tree.score(X_test, y_test))\n",
    "\n",
    "results = cross_val_score(tree, X_train, y_train, cv=3)\n",
    "# результаты кросс-валидации\n",
    "results\n",
    "results.mean()"
   ]
  },
  {
   "cell_type": "code",
   "execution_count": 331,
   "metadata": {},
   "outputs": [
    {
     "data": {
      "text/plain": [
       "1.0"
      ]
     },
     "execution_count": 331,
     "metadata": {},
     "output_type": "execute_result"
    }
   ],
   "source": [
    "from sklearn.ensemble import RandomForestClassifier\n",
    "modelRF = RandomForestClassifier(n_estimators=100, max_features=5)\n",
    "modelRF.fit(X_train, y_train)\n",
    "modelRF.score(X_train, y_train), modelRF.score(X_test, y_test)\n",
    "\n",
    "results = cross_val_score(modelRF, X_train, y_train, cv=3)\n",
    "# результаты кросс-валидации\n",
    "results\n",
    "\n",
    "results.mean()"
   ]
  },
  {
   "cell_type": "markdown",
   "metadata": {},
   "source": [
    "### Это тоже никуда не годится. Давайте взглянем на других животных. Кошки."
   ]
  },
  {
   "cell_type": "code",
   "execution_count": 332,
   "metadata": {},
   "outputs": [
    {
     "data": {
      "text/html": [
       "<div>\n",
       "<style scoped>\n",
       "    .dataframe tbody tr th:only-of-type {\n",
       "        vertical-align: middle;\n",
       "    }\n",
       "\n",
       "    .dataframe tbody tr th {\n",
       "        vertical-align: top;\n",
       "    }\n",
       "\n",
       "    .dataframe thead th {\n",
       "        text-align: right;\n",
       "    }\n",
       "</style>\n",
       "<table border=\"1\" class=\"dataframe\">\n",
       "  <thead>\n",
       "    <tr style=\"text-align: right;\">\n",
       "      <th></th>\n",
       "      <th>ANIMAL_TP</th>\n",
       "      <th>SESSION_DN</th>\n",
       "      <th>SOURCE_ID</th>\n",
       "      <th>CLICK_ANT</th>\n",
       "      <th>ORDER_PRC</th>\n",
       "      <th>ORDER_ST</th>\n",
       "    </tr>\n",
       "  </thead>\n",
       "  <tbody>\n",
       "    <tr>\n",
       "      <th>1</th>\n",
       "      <td>2</td>\n",
       "      <td>103.97</td>\n",
       "      <td>2</td>\n",
       "      <td>4</td>\n",
       "      <td>745</td>\n",
       "      <td>1</td>\n",
       "    </tr>\n",
       "    <tr>\n",
       "      <th>2</th>\n",
       "      <td>2</td>\n",
       "      <td>74.87</td>\n",
       "      <td>1</td>\n",
       "      <td>8</td>\n",
       "      <td>0</td>\n",
       "      <td>0</td>\n",
       "    </tr>\n",
       "    <tr>\n",
       "      <th>3</th>\n",
       "      <td>2</td>\n",
       "      <td>154.41</td>\n",
       "      <td>1</td>\n",
       "      <td>6</td>\n",
       "      <td>182</td>\n",
       "      <td>1</td>\n",
       "    </tr>\n",
       "    <tr>\n",
       "      <th>13</th>\n",
       "      <td>2</td>\n",
       "      <td>114.46</td>\n",
       "      <td>1</td>\n",
       "      <td>10</td>\n",
       "      <td>361</td>\n",
       "      <td>1</td>\n",
       "    </tr>\n",
       "    <tr>\n",
       "      <th>17</th>\n",
       "      <td>2</td>\n",
       "      <td>177.41</td>\n",
       "      <td>3</td>\n",
       "      <td>18</td>\n",
       "      <td>570</td>\n",
       "      <td>1</td>\n",
       "    </tr>\n",
       "  </tbody>\n",
       "</table>\n",
       "</div>"
      ],
      "text/plain": [
       "    ANIMAL_TP  SESSION_DN  SOURCE_ID  CLICK_ANT  ORDER_PRC  ORDER_ST\n",
       "1           2      103.97          2          4        745         1\n",
       "2           2       74.87          1          8          0         0\n",
       "3           2      154.41          1          6        182         1\n",
       "13          2      114.46          1         10        361         1\n",
       "17          2      177.41          3         18        570         1"
      ]
     },
     "execution_count": 332,
     "metadata": {},
     "output_type": "execute_result"
    }
   ],
   "source": [
    "zoo5 = zoo4.query(\"ANIMAL_TP == '2'\")\n",
    "zoo5.head()"
   ]
  },
  {
   "cell_type": "code",
   "execution_count": 333,
   "metadata": {},
   "outputs": [],
   "source": [
    "X = zoo5.iloc[:,0:5].values\n",
    "y = zoo5.iloc[:,5].values"
   ]
  },
  {
   "cell_type": "code",
   "execution_count": 334,
   "metadata": {},
   "outputs": [],
   "source": [
    "from sklearn.model_selection import train_test_split\n",
    "X_train, X_test, y_train, y_test = train_test_split(X, y, test_size = 1/3, random_state = 0)"
   ]
  },
  {
   "cell_type": "code",
   "execution_count": 335,
   "metadata": {},
   "outputs": [
    {
     "name": "stderr",
     "output_type": "stream",
     "text": [
      "/Library/Frameworks/Python.framework/Versions/3.6/lib/python3.6/site-packages/sklearn/linear_model/logistic.py:432: FutureWarning: Default solver will be changed to 'lbfgs' in 0.22. Specify a solver to silence this warning.\n",
      "  FutureWarning)\n",
      "/Library/Frameworks/Python.framework/Versions/3.6/lib/python3.6/site-packages/sklearn/linear_model/logistic.py:432: FutureWarning: Default solver will be changed to 'lbfgs' in 0.22. Specify a solver to silence this warning.\n",
      "  FutureWarning)\n",
      "/Library/Frameworks/Python.framework/Versions/3.6/lib/python3.6/site-packages/sklearn/linear_model/logistic.py:432: FutureWarning: Default solver will be changed to 'lbfgs' in 0.22. Specify a solver to silence this warning.\n",
      "  FutureWarning)\n",
      "/Library/Frameworks/Python.framework/Versions/3.6/lib/python3.6/site-packages/sklearn/linear_model/logistic.py:432: FutureWarning: Default solver will be changed to 'lbfgs' in 0.22. Specify a solver to silence this warning.\n",
      "  FutureWarning)\n"
     ]
    },
    {
     "data": {
      "text/plain": [
       "1.0"
      ]
     },
     "execution_count": 335,
     "metadata": {},
     "output_type": "execute_result"
    }
   ],
   "source": [
    "from sklearn.linear_model import LogisticRegression\n",
    "from sklearn.model_selection import cross_val_score\n",
    "\n",
    "# логистическая регрессия\n",
    "logreg = LogisticRegression()\n",
    "logreg.fit(X_train, y_train)\n",
    "logreg.score(X_train, y_train), logreg.score(X_test, y_test)\n",
    "\n",
    "\n",
    "results = cross_val_score(logreg, X_train, y_train, cv=3)\n",
    "# результаты кросс-валидации\n",
    "results\n",
    "results.mean()"
   ]
  },
  {
   "cell_type": "code",
   "execution_count": 336,
   "metadata": {},
   "outputs": [
    {
     "data": {
      "text/plain": [
       "1.0"
      ]
     },
     "execution_count": 336,
     "metadata": {},
     "output_type": "execute_result"
    }
   ],
   "source": [
    "# дерево\n",
    "from sklearn.tree import DecisionTreeClassifier\n",
    "tree = DecisionTreeClassifier()\n",
    "tree.fit(X_train, y_train)\n",
    "tree.score(X_train, y_train), tree.score(X_test, y_test)\n",
    "#print(tree.score(X_train, y_train), tree.score(X_test, y_test))\n",
    "\n",
    "results = cross_val_score(tree, X_train, y_train, cv=3)\n",
    "# результаты кросс-валидации\n",
    "results\n",
    "results.mean()"
   ]
  },
  {
   "cell_type": "markdown",
   "metadata": {},
   "source": [
    "## На остальных животных я даже пробовать не буду...\n",
    "К сожалению, исследование факторов, влияющих на заказ провести не удастся. Я очень надеюсь, что мои труды не пропали напрасно... \n",
    "\n",
    "`Жаль, что не получилось изучить интересный, практически полезный кейс.`\n",
    "\n",
    "## Ну ничего, такое бывает. \n",
    "Давайте попробуем взглянуть на **приглашение клиента** (CLIENT_INV). Надеюсь, всё получится."
   ]
  },
  {
   "cell_type": "code",
   "execution_count": 337,
   "metadata": {
    "scrolled": true
   },
   "outputs": [
    {
     "data": {
      "text/html": [
       "<div>\n",
       "<style scoped>\n",
       "    .dataframe tbody tr th:only-of-type {\n",
       "        vertical-align: middle;\n",
       "    }\n",
       "\n",
       "    .dataframe tbody tr th {\n",
       "        vertical-align: top;\n",
       "    }\n",
       "\n",
       "    .dataframe thead th {\n",
       "        text-align: right;\n",
       "    }\n",
       "</style>\n",
       "<table border=\"1\" class=\"dataframe\">\n",
       "  <thead>\n",
       "    <tr style=\"text-align: right;\">\n",
       "      <th></th>\n",
       "      <th>ANIMAL_TP</th>\n",
       "      <th>SESSION_DN</th>\n",
       "      <th>SOURCE_ID</th>\n",
       "      <th>CLICK_ANT</th>\n",
       "      <th>ORDER_PRC</th>\n",
       "      <th>ORDER_ST</th>\n",
       "      <th>CLIENT_INV</th>\n",
       "    </tr>\n",
       "  </thead>\n",
       "  <tbody>\n",
       "    <tr>\n",
       "      <th>0</th>\n",
       "      <td>1</td>\n",
       "      <td>79.83</td>\n",
       "      <td>1</td>\n",
       "      <td>35</td>\n",
       "      <td>1516</td>\n",
       "      <td>1</td>\n",
       "      <td>0</td>\n",
       "    </tr>\n",
       "    <tr>\n",
       "      <th>1</th>\n",
       "      <td>2</td>\n",
       "      <td>103.97</td>\n",
       "      <td>2</td>\n",
       "      <td>4</td>\n",
       "      <td>745</td>\n",
       "      <td>1</td>\n",
       "      <td>0</td>\n",
       "    </tr>\n",
       "    <tr>\n",
       "      <th>2</th>\n",
       "      <td>2</td>\n",
       "      <td>74.87</td>\n",
       "      <td>1</td>\n",
       "      <td>8</td>\n",
       "      <td>0</td>\n",
       "      <td>0</td>\n",
       "      <td>0</td>\n",
       "    </tr>\n",
       "    <tr>\n",
       "      <th>3</th>\n",
       "      <td>2</td>\n",
       "      <td>154.41</td>\n",
       "      <td>1</td>\n",
       "      <td>6</td>\n",
       "      <td>182</td>\n",
       "      <td>1</td>\n",
       "      <td>0</td>\n",
       "    </tr>\n",
       "    <tr>\n",
       "      <th>4</th>\n",
       "      <td>1</td>\n",
       "      <td>88.49</td>\n",
       "      <td>2</td>\n",
       "      <td>37</td>\n",
       "      <td>725</td>\n",
       "      <td>1</td>\n",
       "      <td>0</td>\n",
       "    </tr>\n",
       "  </tbody>\n",
       "</table>\n",
       "</div>"
      ],
      "text/plain": [
       "   ANIMAL_TP  SESSION_DN  SOURCE_ID  CLICK_ANT  ORDER_PRC  ORDER_ST  \\\n",
       "0          1       79.83          1         35       1516         1   \n",
       "1          2      103.97          2          4        745         1   \n",
       "2          2       74.87          1          8          0         0   \n",
       "3          2      154.41          1          6        182         1   \n",
       "4          1       88.49          2         37        725         1   \n",
       "\n",
       "   CLIENT_INV  \n",
       "0           0  \n",
       "1           0  \n",
       "2           0  \n",
       "3           0  \n",
       "4           0  "
      ]
     },
     "execution_count": 337,
     "metadata": {},
     "output_type": "execute_result"
    }
   ],
   "source": [
    "zoo6 = zoo\n",
    "zoo6.head()"
   ]
  },
  {
   "cell_type": "code",
   "execution_count": 338,
   "metadata": {},
   "outputs": [],
   "source": [
    "X = zoo6.iloc[:,0:6].values\n",
    "y = zoo6.iloc[:,6].values"
   ]
  },
  {
   "cell_type": "code",
   "execution_count": 339,
   "metadata": {},
   "outputs": [],
   "source": [
    "from sklearn.model_selection import train_test_split\n",
    "X_train, X_test, y_train, y_test = train_test_split(X, y, test_size = 1/3, random_state = 0)"
   ]
  },
  {
   "cell_type": "code",
   "execution_count": 340,
   "metadata": {},
   "outputs": [
    {
     "name": "stderr",
     "output_type": "stream",
     "text": [
      "/Library/Frameworks/Python.framework/Versions/3.6/lib/python3.6/site-packages/sklearn/linear_model/logistic.py:432: FutureWarning: Default solver will be changed to 'lbfgs' in 0.22. Specify a solver to silence this warning.\n",
      "  FutureWarning)\n",
      "/Library/Frameworks/Python.framework/Versions/3.6/lib/python3.6/site-packages/sklearn/linear_model/logistic.py:432: FutureWarning: Default solver will be changed to 'lbfgs' in 0.22. Specify a solver to silence this warning.\n",
      "  FutureWarning)\n",
      "/Library/Frameworks/Python.framework/Versions/3.6/lib/python3.6/site-packages/sklearn/linear_model/logistic.py:432: FutureWarning: Default solver will be changed to 'lbfgs' in 0.22. Specify a solver to silence this warning.\n",
      "  FutureWarning)\n",
      "/Library/Frameworks/Python.framework/Versions/3.6/lib/python3.6/site-packages/sklearn/linear_model/logistic.py:432: FutureWarning: Default solver will be changed to 'lbfgs' in 0.22. Specify a solver to silence this warning.\n",
      "  FutureWarning)\n"
     ]
    },
    {
     "data": {
      "text/plain": [
       "0.8657894736842106"
      ]
     },
     "execution_count": 340,
     "metadata": {},
     "output_type": "execute_result"
    }
   ],
   "source": [
    "from sklearn.linear_model import LogisticRegression\n",
    "from sklearn.model_selection import cross_val_score\n",
    "\n",
    "# логистическая регрессия\n",
    "logreg = LogisticRegression()\n",
    "logreg.fit(X_train, y_train)\n",
    "logreg.score(X_train, y_train), logreg.score(X_test, y_test)\n",
    "\n",
    "\n",
    "results = cross_val_score(logreg, X_train, y_train, cv=3)\n",
    "# результаты кросс-валидации\n",
    "results\n",
    "results.mean()"
   ]
  },
  {
   "cell_type": "code",
   "execution_count": 341,
   "metadata": {},
   "outputs": [
    {
     "data": {
      "text/plain": [
       "0.8447368421052631"
      ]
     },
     "execution_count": 341,
     "metadata": {},
     "output_type": "execute_result"
    }
   ],
   "source": [
    "from sklearn.ensemble import GradientBoostingClassifier\n",
    "modelGB = GradientBoostingClassifier(n_estimators=100)\n",
    "modelGB.fit(X_train, y_train)\n",
    "modelGB.score(X_train, y_train), modelGB.score(X_test, y_test)\n",
    "\n",
    "results = cross_val_score(modelGB, X_train, y_train, cv=3)\n",
    "# результаты кросс-валидации\n",
    "results\n",
    "\n",
    "results.mean()"
   ]
  },
  {
   "cell_type": "markdown",
   "metadata": {},
   "source": [
    "# УРА!!!!! Получились модели!\n",
    "Я оставил 2 лучшие (те, что лучше всего работали)\n",
    "\n",
    "\n",
    "## Давайте  теперь посмотрим на коэффициенты"
   ]
  },
  {
   "cell_type": "code",
   "execution_count": 342,
   "metadata": {
    "scrolled": true
   },
   "outputs": [
    {
     "data": {
      "text/html": [
       "\n",
       "    <style>\n",
       "    table.eli5-weights tr:hover {\n",
       "        filter: brightness(85%);\n",
       "    }\n",
       "</style>\n",
       "\n",
       "\n",
       "\n",
       "    \n",
       "\n",
       "    \n",
       "\n",
       "    \n",
       "\n",
       "    \n",
       "\n",
       "    \n",
       "\n",
       "    \n",
       "\n",
       "\n",
       "    \n",
       "\n",
       "    \n",
       "\n",
       "    \n",
       "\n",
       "    \n",
       "        \n",
       "\n",
       "    \n",
       "\n",
       "        \n",
       "            \n",
       "                \n",
       "                \n",
       "    \n",
       "        <p style=\"margin-bottom: 0.5em; margin-top: 0em\">\n",
       "            <b>\n",
       "    \n",
       "        y=1\n",
       "    \n",
       "</b>\n",
       "\n",
       "top features\n",
       "        </p>\n",
       "    \n",
       "    <table class=\"eli5-weights\"\n",
       "           style=\"border-collapse: collapse; border: none; margin-top: 0em; table-layout: auto; margin-bottom: 2em;\">\n",
       "        <thead>\n",
       "        <tr style=\"border: none;\">\n",
       "            \n",
       "                <th style=\"padding: 0 1em 0 0.5em; text-align: right; border: none;\" title=\"Feature weights. Note that weights do not account for feature value scales, so if feature values have different scales, features with highest weights might not be the most important.\">\n",
       "                    Weight<sup>?</sup>\n",
       "                </th>\n",
       "            \n",
       "            <th style=\"padding: 0 0.5em 0 0.5em; text-align: left; border: none;\">Feature</th>\n",
       "            \n",
       "        </tr>\n",
       "        </thead>\n",
       "        <tbody>\n",
       "        \n",
       "            <tr style=\"background-color: hsl(120, 100.00%, 98.13%); border: none;\">\n",
       "    <td style=\"padding: 0 1em 0 0.5em; text-align: right; border: none;\">\n",
       "        +0.062\n",
       "    </td>\n",
       "    <td style=\"padding: 0 0.5em 0 0.5em; text-align: left; border: none;\">\n",
       "        ORDER_ST\n",
       "    </td>\n",
       "    \n",
       "</tr>\n",
       "        \n",
       "            <tr style=\"background-color: hsl(120, 100.00%, 99.59%); border: none;\">\n",
       "    <td style=\"padding: 0 1em 0 0.5em; text-align: right; border: none;\">\n",
       "        +0.007\n",
       "    </td>\n",
       "    <td style=\"padding: 0 0.5em 0 0.5em; text-align: left; border: none;\">\n",
       "        CLICK_ANT\n",
       "    </td>\n",
       "    \n",
       "</tr>\n",
       "        \n",
       "            <tr style=\"background-color: hsl(120, 100.00%, 99.99%); border: none;\">\n",
       "    <td style=\"padding: 0 1em 0 0.5em; text-align: right; border: none;\">\n",
       "        +0.000\n",
       "    </td>\n",
       "    <td style=\"padding: 0 0.5em 0 0.5em; text-align: left; border: none;\">\n",
       "        ORDER_PRC\n",
       "    </td>\n",
       "    \n",
       "</tr>\n",
       "        \n",
       "        \n",
       "\n",
       "        \n",
       "        \n",
       "            <tr style=\"background-color: hsl(0, 100.00%, 99.90%); border: none;\">\n",
       "    <td style=\"padding: 0 1em 0 0.5em; text-align: right; border: none;\">\n",
       "        -0.001\n",
       "    </td>\n",
       "    <td style=\"padding: 0 0.5em 0 0.5em; text-align: left; border: none;\">\n",
       "        SESSION_DN\n",
       "    </td>\n",
       "    \n",
       "</tr>\n",
       "        \n",
       "            <tr style=\"background-color: hsl(0, 100.00%, 99.46%); border: none;\">\n",
       "    <td style=\"padding: 0 1em 0 0.5em; text-align: right; border: none;\">\n",
       "        -0.010\n",
       "    </td>\n",
       "    <td style=\"padding: 0 0.5em 0 0.5em; text-align: left; border: none;\">\n",
       "        SOURCE_ID\n",
       "    </td>\n",
       "    \n",
       "</tr>\n",
       "        \n",
       "            <tr style=\"background-color: hsl(0, 100.00%, 99.24%); border: none;\">\n",
       "    <td style=\"padding: 0 1em 0 0.5em; text-align: right; border: none;\">\n",
       "        -0.017\n",
       "    </td>\n",
       "    <td style=\"padding: 0 0.5em 0 0.5em; text-align: left; border: none;\">\n",
       "        ANIMAL_TP\n",
       "    </td>\n",
       "    \n",
       "</tr>\n",
       "        \n",
       "            <tr style=\"background-color: hsl(0, 100.00%, 80.00%); border: none;\">\n",
       "    <td style=\"padding: 0 1em 0 0.5em; text-align: right; border: none;\">\n",
       "        -1.828\n",
       "    </td>\n",
       "    <td style=\"padding: 0 0.5em 0 0.5em; text-align: left; border: none;\">\n",
       "        &lt;BIAS&gt;\n",
       "    </td>\n",
       "    \n",
       "</tr>\n",
       "        \n",
       "\n",
       "        </tbody>\n",
       "    </table>\n",
       "\n",
       "            \n",
       "        \n",
       "\n",
       "        \n",
       "\n",
       "\n",
       "\n",
       "    \n",
       "\n",
       "    \n",
       "\n",
       "    \n",
       "\n",
       "    \n",
       "\n",
       "\n",
       "    \n",
       "\n",
       "    \n",
       "\n",
       "    \n",
       "\n",
       "    \n",
       "\n",
       "    \n",
       "\n",
       "    \n",
       "\n",
       "\n",
       "    \n",
       "\n",
       "    \n",
       "\n",
       "    \n",
       "\n",
       "    \n",
       "\n",
       "    \n",
       "\n",
       "    \n",
       "\n",
       "\n",
       "\n"
      ],
      "text/plain": [
       "<IPython.core.display.HTML object>"
      ]
     },
     "execution_count": 342,
     "metadata": {},
     "output_type": "execute_result"
    }
   ],
   "source": [
    "import eli5\n",
    "names = list(zoo6)\n",
    "names\n",
    "eli5.show_weights(logreg, feature_names=names[:6])"
   ]
  },
  {
   "cell_type": "markdown",
   "metadata": {},
   "source": [
    "Да уж... результаты не самые \"лучшие\". Человек, который заказывает – приглашает новых клиентов."
   ]
  },
  {
   "cell_type": "code",
   "execution_count": 343,
   "metadata": {
    "scrolled": true
   },
   "outputs": [
    {
     "data": {
      "text/html": [
       "\n",
       "    <style>\n",
       "    table.eli5-weights tr:hover {\n",
       "        filter: brightness(85%);\n",
       "    }\n",
       "</style>\n",
       "\n",
       "\n",
       "\n",
       "    \n",
       "\n",
       "    \n",
       "\n",
       "    \n",
       "\n",
       "    \n",
       "\n",
       "    \n",
       "\n",
       "    \n",
       "\n",
       "\n",
       "    \n",
       "\n",
       "    \n",
       "\n",
       "    \n",
       "\n",
       "    \n",
       "\n",
       "    \n",
       "\n",
       "    \n",
       "\n",
       "\n",
       "    \n",
       "\n",
       "    \n",
       "\n",
       "    \n",
       "\n",
       "    \n",
       "\n",
       "    \n",
       "        <table class=\"eli5-weights eli5-feature-importances\" style=\"border-collapse: collapse; border: none; margin-top: 0em; table-layout: auto;\">\n",
       "    <thead>\n",
       "    <tr style=\"border: none;\">\n",
       "        <th style=\"padding: 0 1em 0 0.5em; text-align: right; border: none;\">Weight</th>\n",
       "        <th style=\"padding: 0 0.5em 0 0.5em; text-align: left; border: none;\">Feature</th>\n",
       "    </tr>\n",
       "    </thead>\n",
       "    <tbody>\n",
       "    \n",
       "        <tr style=\"background-color: hsl(120, 100.00%, 80.00%); border: none;\">\n",
       "            <td style=\"padding: 0 1em 0 0.5em; text-align: right; border: none;\">\n",
       "                0.4941\n",
       "                \n",
       "                    &plusmn; 0.6823\n",
       "                \n",
       "            </td>\n",
       "            <td style=\"padding: 0 0.5em 0 0.5em; text-align: left; border: none;\">\n",
       "                SESSION_DN\n",
       "            </td>\n",
       "        </tr>\n",
       "    \n",
       "        <tr style=\"background-color: hsl(120, 100.00%, 85.74%); border: none;\">\n",
       "            <td style=\"padding: 0 1em 0 0.5em; text-align: right; border: none;\">\n",
       "                0.3046\n",
       "                \n",
       "                    &plusmn; 0.6844\n",
       "                \n",
       "            </td>\n",
       "            <td style=\"padding: 0 0.5em 0 0.5em; text-align: left; border: none;\">\n",
       "                ORDER_PRC\n",
       "            </td>\n",
       "        </tr>\n",
       "    \n",
       "        <tr style=\"background-color: hsl(120, 100.00%, 92.01%); border: none;\">\n",
       "            <td style=\"padding: 0 1em 0 0.5em; text-align: right; border: none;\">\n",
       "                0.1332\n",
       "                \n",
       "                    &plusmn; 0.2647\n",
       "                \n",
       "            </td>\n",
       "            <td style=\"padding: 0 0.5em 0 0.5em; text-align: left; border: none;\">\n",
       "                CLICK_ANT\n",
       "            </td>\n",
       "        </tr>\n",
       "    \n",
       "        <tr style=\"background-color: hsl(120, 100.00%, 96.79%); border: none;\">\n",
       "            <td style=\"padding: 0 1em 0 0.5em; text-align: right; border: none;\">\n",
       "                0.0361\n",
       "                \n",
       "                    &plusmn; 0.1921\n",
       "                \n",
       "            </td>\n",
       "            <td style=\"padding: 0 0.5em 0 0.5em; text-align: left; border: none;\">\n",
       "                SOURCE_ID\n",
       "            </td>\n",
       "        </tr>\n",
       "    \n",
       "        <tr style=\"background-color: hsl(120, 100.00%, 97.23%); border: none;\">\n",
       "            <td style=\"padding: 0 1em 0 0.5em; text-align: right; border: none;\">\n",
       "                0.0293\n",
       "                \n",
       "                    &plusmn; 0.1486\n",
       "                \n",
       "            </td>\n",
       "            <td style=\"padding: 0 0.5em 0 0.5em; text-align: left; border: none;\">\n",
       "                ANIMAL_TP\n",
       "            </td>\n",
       "        </tr>\n",
       "    \n",
       "        <tr style=\"background-color: hsl(120, 100.00%, 99.49%); border: none;\">\n",
       "            <td style=\"padding: 0 1em 0 0.5em; text-align: right; border: none;\">\n",
       "                0.0026\n",
       "                \n",
       "                    &plusmn; 0.0613\n",
       "                \n",
       "            </td>\n",
       "            <td style=\"padding: 0 0.5em 0 0.5em; text-align: left; border: none;\">\n",
       "                ORDER_ST\n",
       "            </td>\n",
       "        </tr>\n",
       "    \n",
       "    \n",
       "    </tbody>\n",
       "</table>\n",
       "    \n",
       "\n",
       "    \n",
       "\n",
       "\n",
       "    \n",
       "\n",
       "    \n",
       "\n",
       "    \n",
       "\n",
       "    \n",
       "\n",
       "    \n",
       "\n",
       "    \n",
       "\n",
       "\n",
       "\n"
      ],
      "text/plain": [
       "<IPython.core.display.HTML object>"
      ]
     },
     "execution_count": 343,
     "metadata": {},
     "output_type": "execute_result"
    }
   ],
   "source": [
    "eli5.show_weights(modelGB, feature_names=names[:6])"
   ]
  },
  {
   "cell_type": "markdown",
   "metadata": {},
   "source": [
    "Тут более интересно. Пригласит ли челове кнового клиента зависит от длительности нахождения на сайте и суммы заказа. \n",
    "В целом, это довольно \"банальный\" результат для наших данных. Но это лучше, чем ничего."
   ]
  },
  {
   "cell_type": "markdown",
   "metadata": {},
   "source": [
    "#  Давайте подведем итог работы:"
   ]
  },
  {
   "cell_type": "markdown",
   "metadata": {},
   "source": [
    "Целью данного **\"исследования\"** было помочь брату с улучшением продаж в его зоомагазине. \n",
    "\n",
    "### `Данная задача решалась двумя способами: `\n",
    "1. Была идея предсказать какие переменные влияют на то, что человек **сделает заказ на сайте**\n",
    "\n",
    "* К сожалению, данные были сильно скоррелированы, поэтому мы **не смогли построить размуные/рабочие модели** для изучения зависимостей.\n",
    "* Но, благодаря дискриптивной аналитике, мы увидели, что большинство заказов приходится на **собачьи** товары и SEO является лучшим средством для привлечения клиентов (на данный момент/на наших данных).\n",
    "\n",
    "2. После неудачи с предсказанием заказа на сайте, мы начали изучать что влияет на то, пригласит ли человек нового клиента (вероятно своего друга).\n",
    "\n",
    "* Результаты регресси показали банальную корреляцию (если ты оставляешь заказ -> ты приведешь друга)\n",
    "* Результаты градиентного бустинга показали, что длительность сессии человека на сайте, а также стоимость его заказа положительно влияют на привлечение новых клиентов.\n",
    "\n",
    "### `Совет, который можно дать брату и его компании:`\n",
    "\n",
    "1. Если вы берете брата в качестве аналитика – давайте ему **бòльший** набор данных, чтобы можно было разгуляться.\n",
    "2. На основе текущего анализа можно сказать, что собачники составляют наибольшее количество клиентов в текущем периоде. => можно закупить больше \"собачьих\" товаров, чтобы не было проблем с предложением для клиентов.\n",
    "3. Кошатники и другие заметно проседают по продажам, возможно, стоит сделать акцент в рекламе именно на них.\n",
    "4. SEO - отличный источник трафика (можно попробовать на него поднажать/вложить больше денег в рекламу).\n",
    "5. Если необходимо продавать \"другие\" товары (не кошкам и не собакам) – то *redirect** отличный источник трафика (=> нужно больше вкладываться в рекламу на сайтах партнеров).\n",
    "6. Для увеличения сетевого эффекта и привлечения дополнительных клиентов – стоит ввести програмы лояльности для постоянных клиентов (тех, кто делает заказы) + для тех, кто тратит бòльшие суммы на сайте. Таким образом, вы поощрите их и они будут звать новых клиентов."
   ]
  }
 ],
 "metadata": {
  "kernelspec": {
   "display_name": "python3.5",
   "language": "python",
   "name": "python3.5"
  },
  "language_info": {
   "codemirror_mode": {
    "name": "ipython",
    "version": 3
   },
   "file_extension": ".py",
   "mimetype": "text/x-python",
   "name": "python",
   "nbconvert_exporter": "python",
   "pygments_lexer": "ipython3",
   "version": "3.6.7"
  }
 },
 "nbformat": 4,
 "nbformat_minor": 2
}
